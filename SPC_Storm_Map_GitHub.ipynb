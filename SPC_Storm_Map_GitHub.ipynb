{
 "cells": [
  {
   "cell_type": "markdown",
   "metadata": {},
   "source": [
    "## Storm Prediction Center thermodynamic and upper air maps"
   ]
  },
  {
   "cell_type": "markdown",
   "metadata": {},
   "source": [
    "### Justin Richling  4/17/2017"
   ]
  },
  {
   "cell_type": "markdown",
   "metadata": {},
   "source": [
    "### http://www.spc.noaa.gov/exper/mesoanalysis/"
   ]
  },
  {
   "cell_type": "markdown",
   "metadata": {},
   "source": [
    "### I use these maps to try and track storms to see what kind of data they are producing. SPC has an almost endless array of maps that provide so much valuable information as well as predictions. They can be overlapped and/or compared with others to get a good detail of what's happeningin the air!"
   ]
  },
  {
   "cell_type": "markdown",
   "metadata": {},
   "source": [
    "## Updates every hour"
   ]
  },
  {
   "cell_type": "code",
   "execution_count": 11,
   "metadata": {
    "collapsed": false
   },
   "outputs": [],
   "source": [
    "from matplotlib.pyplot import imshow\n",
    "import matplotlib.image as mpimg\n",
    "import time,urllib,urllib2,cStringIO,logging,webbrowser,\\\n",
    "IPython.display,shutil,sys,os\n",
    "import numpy as np\n",
    "import matplotlib.pyplot as plt\n",
    "from bs4 import BeautifulSoup\n",
    "from IPython.core.display import Image\n",
    "from PIL import Image as PILImage\n",
    "from matplotlib.pyplot import *"
   ]
  },
  {
   "cell_type": "code",
   "execution_count": 2,
   "metadata": {
    "collapsed": false
   },
   "outputs": [
    {
     "data": {
      "text/plain": [
       "16"
      ]
     },
     "execution_count": 2,
     "metadata": {},
     "output_type": "execute_result"
    }
   ],
   "source": [
    "from datetime import datetime\n",
    "datetime.utcnow().hour\n",
    "#now = datetime.now()"
   ]
  },
  {
   "cell_type": "code",
   "execution_count": 3,
   "metadata": {
    "collapsed": false
   },
   "outputs": [],
   "source": [
    "ListRegion = [\"National\",\"Mid West\",\"Southwest\",\"Southern Plains\",\"Northern Plains\",\\\n",
    "\"Northeast\",\"Southeast\",\"Central Plains\",\"Northwest\",\"East Coast\"]\n",
    "\n",
    "List = []\n",
    "WinterList = []\n",
    "RegionNumber = [19,20,12,15,13,16,18,14,11,17]\n",
    "\n",
    "# This will litterally match each entry of both lists as an entry for a new list\n",
    "Regionz = zip(ListRegion,RegionNumber)\n",
    "\n",
    "# These are the extensions needed for SPC's webpage\n",
    "Mapext = [\"tran\",\"pwtr\",\"cpsh\",\"3cvr\",\"eshr\",\"lfrh\",\"lclh\",\"sbcp\",\"300mb\",\"500mb\",\"700mb\",\\\n",
    "\"850mb\",\"925mb\",\"ttd\",\"rgnlrad\",\"1kmv\",\"bigsfc\",\"pmsl\",\"vtm\",\"stor\",\"laps\"]\n",
    "\n",
    "# This list is just a quick description of each map, this will serve as axis titles info\n",
    "Mapname = [\"850mb Precip Transfer\",\"Precipital Water, Lowest 400mb\",\"MUCAPE, MUCIL, Effective Bulk Shear\",\\\n",
    "\"0-3 km MLCAPE and Surface Vorticity\",\"Effective Bulk Shear\",\"LCL to LFC Mean RH\",\\\n",
    "\"100mb Mean Parcel LCL\",\"Surface Based CAPE/CIN\",\"300mb\",\"500mb\",\"700mb\",\\\n",
    "\"850mb\",\"925mb\",\"Surface Temp, Dew Point, and Mean Sea Level Pressure Isobars\",\"RADAR\",\\\n",
    "\"Visible Satellite\",\"Surface Observations\",\"MSLP and Winds\",\"Horz. Velocity Gradient\",\\\n",
    "\"Sig. Tornado Parameter\",\"700-500mb Lapse Rate\"]\n",
    "\n",
    "winterMapext = [\"fztp\",\"swbt\",\"fzlv\",\"thck\",\"dend\"]\n",
    "\n",
    "winterMapname = [\"Near Freezing Surf Temps\",\"Near Freezing Wet Bulb Temp\",\"Freezing Level\",\\\n",
    "\"Critical Thickness\",\"Dendritic Layer Depth\"]\n",
    "\n",
    "# Now we can populate the new list, List, with the full address of each map.\n",
    "# This will ais in retrieving the all the maps the user desires\n",
    "for i in RegionNumber:\n",
    "    #print i\n",
    "    for j in Mapext:\n",
    "        List.append(\"http://www.spc.noaa.gov/exper/mesoanalysis/s\"+str(i)+\"/\"+str(j)+\"/\"+str(j)+\".gif\")\n",
    "        \n",
    "for i in RegionNumber:\n",
    "    #print i\n",
    "    for j in winterMapext:\n",
    "        WinterList.append(\"http://www.spc.noaa.gov/exper/mesoanalysis/s\"+str(i)+\"/\"+str(j)+\"/\"+str(j)+\".gif\")"
   ]
  },
  {
   "cell_type": "code",
   "execution_count": 4,
   "metadata": {
    "collapsed": false
   },
   "outputs": [
    {
     "data": {
      "text/plain": [
       "[('National', 19),\n",
       " ('Mid West', 20),\n",
       " ('Southwest', 12),\n",
       " ('Southern Plains', 15),\n",
       " ('Northern Plains', 13),\n",
       " ('Northeast', 16),\n",
       " ('Southeast', 18),\n",
       " ('Central Plains', 14),\n",
       " ('Northwest', 11),\n",
       " ('East Coast', 17)]"
      ]
     },
     "execution_count": 4,
     "metadata": {},
     "output_type": "execute_result"
    }
   ],
   "source": [
    "# (region, SPC's region number)\n",
    "Regionz"
   ]
  },
  {
   "cell_type": "code",
   "execution_count": 5,
   "metadata": {
    "collapsed": false
   },
   "outputs": [],
   "source": [
    "Nat = List[0:18]\n",
    "MW = List[18:36]\n",
    "SW = List[36:54]\n",
    "SPl = List[54:72]\n",
    "NPl = List[72:90]\n",
    "NE = List[90:108]\n",
    "SE = List[108:126]\n",
    "CPl = List[126:144]\n",
    "NW = List[144:162]\n",
    "EC = List[162:180]\n",
    "# Regions will be the final array of all the maps for each region, 18 maps x 10 regions = \n",
    "#180 maps in all right now!\n",
    "Regions = np.array((Nat,MW,SW,SPl,NPl,NE,SE,CPl,NW,EC))"
   ]
  },
  {
   "cell_type": "code",
   "execution_count": 6,
   "metadata": {
    "collapsed": true
   },
   "outputs": [],
   "source": [
    "# mappage is the full web address for the particular map\n",
    "# maptitle will be not only the extension on the saved image file name, but also the \n",
    "#    title to the image itself\n",
    "# save_location will be where the new image will be saved, providyed by user\n",
    "\n",
    "def SPC_Storm_Pages(year,month,day,hour,minute,mappage,maptitle,Region,save_location):\n",
    "    \n",
    "    if month < 10:\n",
    "        month = \"0\"+str(month)\n",
    "    if day < 10:\n",
    "        day = \"0\"+str(day)\n",
    "    if hour < 10:\n",
    "        hour = \"0\"+str(hour) \n",
    "\n",
    "    try:\n",
    "        print mappage\n",
    "\n",
    "# Open a browser to the page\n",
    "    #webbrowser.open(picture_page) \n",
    "\n",
    "# open the web page picture and read it into a variable\n",
    "        opener1 = urllib2.build_opener()\n",
    "        page1 = opener1.open(mappage)\n",
    "        my_picture = page1.read()\n",
    "            \n",
    "# open file for binary write and save picture\n",
    "# picture_page[-4:] extracts extension eg. .gif\n",
    "# (most image file extensions have three letters, otherwise modify)\n",
    "        Filename = str(year)+\"_\"+str(month)+\"_\"+str(day)+\\\n",
    "    \"_\"+str(hour)+\"_\"+str(minute)+\"Z\"+\"_\"+str(maptitle)+\".png\" \n",
    "        fout = open(save_location+\"/\"+\\\n",
    "                    Filename, \"wb\")\n",
    "        fout.write(my_picture)\n",
    "        fout.close()\n",
    "          \n",
    "# test to see if it saved correctly\n",
    "        #webbrowser.open(Filename)                   \n",
    "    except urllib2.HTTPError, err:\n",
    "        if err.code == 404:\n",
    "            logging.exception(\"No Data from website\")\n",
    "            pass\n",
    "        else:\n",
    "            raise\n",
    "\n",
    "    file = cStringIO.StringIO(urllib.urlopen(mappage).read())\n",
    "    img = PILImage.open(file)\n",
    "    fig, ax = subplots(figsize=(15, 8))\n",
    "    ax.set_title(str(maptitle)+str(year)+\" \"+\\\n",
    "                 str(month)+\" \"+str(day)+\" \"+str(hour)+str(minute)+\"Z\")\n",
    "    ax.imshow(img, interpolation='nearest')\n",
    "    tight_layout()\n",
    "    #plt.show()\n",
    "    plt.close()"
   ]
  },
  {
   "cell_type": "code",
   "execution_count": 27,
   "metadata": {
    "collapsed": true
   },
   "outputs": [],
   "source": [
    "def RunMap(Year,Month,Day,Hour,Minute,j,region,save_location):\n",
    "    # The kth index will be used for seperating map titles in NOAA's website\n",
    "    k = 0   \n",
    "    \n",
    "    # The jth index of Regions is which region of NOAA's map we're looking at\n",
    "    for i in Regions[j]:\n",
    "    # Inputs and necessary position in the function:\n",
    "        # Mapext[k] will grab each of the extensions for the maps needed for the webpage\n",
    "        # i will iterate through the regions provided by user\n",
    "        SPC_Storm_Pages(Year,Month,Day,Hour,Minute,i,Mapext[k],region,save_location)\n",
    "    # This will step k to the next int by 1, thus getting all the map names    \n",
    "        k = k+1"
   ]
  },
  {
   "cell_type": "code",
   "execution_count": null,
   "metadata": {
    "collapsed": true
   },
   "outputs": [],
   "source": [
    "# Keeps track of how many regions the user wants to track\n",
    "Inputz = raw_input(\"How many regions would you like to track (10 total)? (A)ll to run all regions \") \n",
    "\n",
    "# MyInput is a new list to accept all the regions the user inputs\n",
    "MyInput = []\n",
    "\n",
    "if Inputz == \"A\":\n",
    "    # prints all regions\n",
    "    for item in Regionz:\n",
    "        print item\n",
    "else:\n",
    "    Inputz = int(Inputz)  # need to make the number provided an actual integer\n",
    "    for i in range(Inputz):\n",
    "    # Give a list of region names to be used as input by user\n",
    "        for h in range(len(ListRegion)):\n",
    "            print str(ListRegion[h])\n",
    "        MyInput.append(raw_input(\"Which Region: \"))\n",
    "        print \"\\n\"+\"Regions for Loop: \"+str(MyInput)+\"\\n\"\n",
    "\n",
    "# Number of hours desired by user for loop        \n",
    "Time = input(\"How many hours for loop? \")\n",
    "print\n",
    "# datetime.now gives us current time from operating system; now stores it in a variable\n",
    "now = datetime.now()\n",
    "Month = now.month\n",
    "Year = now.year\n",
    "Day = now.day\n",
    "\n",
    "# utcnow will give us 24 hr clock. This helps because we use UTC so much already    \n",
    "Hour = datetime.utcnow().hour\n",
    "Minute = datetime.utcnow().minute\n",
    "\n",
    "# We need the month and day number to have a 0 in front for the web address\n",
    "# This will just concoctinate?? add a zero if its less than 10     \n",
    "if Month < 10:\n",
    "    Month = \"0\"+str(Month)\n",
    "if Day < 10:\n",
    "    Day = \"0\"+str(Day)\n",
    "if Hour < 10:\n",
    "    Hour = \"0\"+str(Hour)\n",
    "if Minute < 10:\n",
    "    Minute = \"0\"+str(Minute)\n",
    "    \n",
    "# We want to store this particular storm in its designated folder \n",
    "# Each region will have its own folder, but this is where all the region folders\n",
    "# will be saved\n",
    "save_location = raw_input(\"Where would you like to save the folders? \")\n",
    "\n",
    "for g in range(Time*6):\n",
    "    for i in range(len(MyInput)):    \n",
    "    # Check to see if Input (user's input) is in our list of NOAA regions\n",
    "        if MyInput[i] in ListRegion:\n",
    "    # If Input is in our list, then set j equal to that numbered index\n",
    "    # j will be an int!!\n",
    "            j = ListRegion.index(MyInput[i])\n",
    "    # We will use j in a moment, it is the list entry number of input region\n",
    "        \n",
    "        # The new save location will just add the date to it so each region will be saved as a new\n",
    "        # variable/folder (save_location_new) in the original save location (save_location) above \n",
    "        save_location_new = str(save_location)+str(Year)+\"_\"+str(Month)+\"_\"+str(Day)+\"_\"+str(MyInput[i])+\"/\"\n",
    "        #print \"Directory to house all region folders: \"+str(save_location)\n",
    "        #print \"new save_location: \"+str(save_location_new)+\"\\n\"\n",
    "\n",
    "# Checking to see if the folder exists already (os.path.isdir) and if not, create one (os.makedirs)\n",
    "# Then redirect (os.chdir) to that folder so later the created image can be automatically saved to it\n",
    "        if not os.path.isdir(save_location_new):\n",
    "            os.makedirs(save_location_new)\n",
    "        os.chdir(save_location_new)\n",
    "        print str(MyInput[i])+\":  \"+str(save_location_new)\n",
    "        RunMap(Year,Month,Day,Hour,Minute,j,MyInput[i],save_location_new)\n",
    "        print\n",
    "        \n",
    "    # The time.sleep() at the end of the loop will allow for the time desired by SPC to\n",
    "    # regenerate an updated map. I believe its 10 or 20 min for SPC maps??\n",
    "    time.sleep(10*60)\n",
    "    \n",
    "print \"All done.\""
   ]
  }
 ],
 "metadata": {
  "kernelspec": {
   "display_name": "Python 2",
   "language": "python",
   "name": "python2"
  },
  "language_info": {
   "codemirror_mode": {
    "name": "ipython",
    "version": 2
   },
   "file_extension": ".py",
   "mimetype": "text/x-python",
   "name": "python",
   "nbconvert_exporter": "python",
   "pygments_lexer": "ipython2",
   "version": "2.7.12"
  }
 },
 "nbformat": 4,
 "nbformat_minor": 0
}
