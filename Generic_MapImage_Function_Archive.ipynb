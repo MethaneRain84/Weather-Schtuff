{
 "cells": [
  {
   "cell_type": "code",
   "execution_count": null,
   "metadata": {
    "collapsed": true
   },
   "outputs": [],
   "source": [
    "%pylab\n",
    "import urllib2\n",
    "import time, os\n",
    "import webbrowser\n",
    "import logging\n",
    "#%matplotlib inline\n",
    "import urllib, cStringIO\n",
    "from PIL import Image as PILImage"
   ]
  },
  {
   "cell_type": "code",
   "execution_count": null,
   "metadata": {
    "collapsed": true
   },
   "outputs": [],
   "source": [
    "print \"Archived maps are: \"\n",
    "print \"Snow Water Equivalent\"\n",
    "print \"Surface Analysis\"\n",
    "print \"24 Hr Snowfall\""
   ]
  },
  {
   "cell_type": "code",
   "execution_count": null,
   "metadata": {
    "collapsed": true
   },
   "outputs": [],
   "source": [
    "print \"NOTE!!! The 24hr Snowfall archive is not valid for years 2009-2013!!!\""
   ]
  },
  {
   "cell_type": "code",
   "execution_count": null,
   "metadata": {
    "collapsed": true
   },
   "outputs": [],
   "source": [
    "year = raw_input(\"Year? \")\n",
    "month = raw_input(\"Month? \")\n",
    "day = raw_input(\"day? \")\n",
    "path = raw_input(\"File Destination? (ie /Users/ChowdaHead/Desktop/)\")"
   ]
  },
  {
   "cell_type": "code",
   "execution_count": null,
   "metadata": {
    "collapsed": true
   },
   "outputs": [],
   "source": [
    "def ArchivedMap(page,year,month,day,loc,FileEnd,AxisTitle):\n",
    "    \n",
    "    try: \n",
    "        print page\n",
    "    #webbrowser.open(picture_page) \n",
    "\n",
    "# open the web page picture and read it into a variable\n",
    "        opener1 = urllib2.build_opener()\n",
    "        page1 = opener1.open(page)\n",
    "        my_picture = page1.read()\n",
    "\n",
    "# open file for binary write and save picture\n",
    "# (most image file extensions have three letters, otherwise modify)\n",
    "        Filename = str(year)+\"_\"+str(month)+\"_\"+\\\n",
    "    str(day)+\"_\"+FileEnd\n",
    "        fout = open(loc+\"/\"+Filename, \"wb\")\n",
    "        fout.write(my_picture)\n",
    "        fout.close()\n",
    "# test to see if it saved correctly\n",
    "    #webbrowser.open(Filename)  \n",
    "    \n",
    "    except urllib2.HTTPError, err:\n",
    "        if err.code == 404:\n",
    "            logging.exception(\"No Data from website\")\n",
    "            pass\n",
    "        else:\n",
    "            raise\n",
    "\n",
    "\n",
    "    file = cStringIO.StringIO(urllib.urlopen(picture_page).read())\n",
    "    img = PILImage.open(file)\n",
    "    fig, ax = subplots(figsize=(12, 6))\n",
    "    ax.set_title(AxisTitle+\" \"+str(year)+\" \"+\\\n",
    "                 str(month)+\" \"+str(day))\n",
    "    ax.imshow(img, interpolation='nearest')\n",
    "    #tight_layout()\n",
    "    #plt.axis('off')\n",
    "    #plt.show()\n",
    "    plt.close()\n",
    "    \n",
    "    return Filename"
   ]
  },
  {
   "cell_type": "code",
   "execution_count": null,
   "metadata": {
    "collapsed": true
   },
   "outputs": [],
   "source": [
    "SnowWatEq_page=\"http://www.nohrsc.noaa.gov/snow_model/\"+\\\n",
    "        \"images/full/National/nsm_swe/\"+str(year)+str(month)+\\\n",
    "        \"/nsm_swe_\"+str(year)+str(month)+str(day)+\"05_National.jpg\"\n",
    "SnowWatEq_FileEnd=\"SnowWatEq.png\"\n",
    "SnowWatEq_AxisTitle=\"Snow Water Equivalent: \"\n",
    "SnowWatEq = [SnowWatEq_page,SnowWatEq_FileEnd,SnowWatEq_AxisTitle]\n",
    "\n",
    "#######################################################################################\n",
    "# This archive is behind at least a day. So running this map will generate\n",
    "# yesterday's surface analysis, for 12Z \n",
    "SurfAnalyArchv_page=\"http://www.wpc.ncep.noaa.gov/dailywxmap/\"+\\\n",
    "        \"htmlimages/sfcplot_sm_\"+str(year)+str(month)+\"0\"+str(int(day)-1)+\".gif\"\n",
    "SurfAnalyArchv_FileEnd=\"Surf_Analy_SIMPLE.png\"\n",
    "SurfAnalyArchv_AxisTitle=\"Surface Analysis (Simple): \"\n",
    "SurfAnalyArchv = [SurfAnalyArchv_page,SurfAnalyArchv_FileEnd,SurfAnalyArchv_AxisTitle]\n",
    "\n",
    "#######################################################################################\n",
    "Snowfall24hr_page=\"http://www.nohrsc.noaa.gov/snowfall/data/\"\\\n",
    "        +str(year)+str(month)+\"/snfl_b2_\"+str(year)\\\n",
    "        +str(month)+str(day)+\"12_R150_L30_G0.20.png\" \n",
    "Snowfall24hr_FileEnd=\"24Hr_Snowfall.png\"\n",
    "Snowfall24hr_AxisTitle=\"24 Hour Snowfall: \"\n",
    "Snowfall24hr = [Snowfall24hr_page,Snowfall24hr_FileEnd,Snowfall24hr_AxisTitle]\n",
    "#######################################################################################\n",
    "\n",
    "ArchivedInfoList = [SnowWatEq,SurfAnalyArchv,Snowfall24hr]"
   ]
  },
  {
   "cell_type": "raw",
   "metadata": {
    "collapsed": true
   },
   "source": [
    "for i in range(len(infoList)):\n",
    "    CurrentMap(infoList[i][0],infoList[i][1],Daypath,infoList[i][2]) "
   ]
  },
  {
   "cell_type": "raw",
   "metadata": {
    "collapsed": false
   },
   "source": [
    "print \"Make sure to put a forward slash at the end of your path name\"\n",
    "print \"Example:  path = /Users/Chowdahead/Desktop/\""
   ]
  },
  {
   "cell_type": "raw",
   "metadata": {
    "collapsed": true
   },
   "source": [
    "path = raw_input(\"Where would you like the file? \")\n",
    "if not os.path.isdir(path):\n",
    "    os.makedirs(path)\n",
    "os.chdir(path)\n",
    "for i in range(len(infoList)):\n",
    "    CurrentMap(infoList[i][0],infoList[i][1],Daypath,infoList[i][2]) "
   ]
  },
  {
   "cell_type": "raw",
   "metadata": {
    "collapsed": false
   },
   "source": [
    "for i in range(len(infoList)):\n",
    "    print infoList[i][0]"
   ]
  },
  {
   "cell_type": "code",
   "execution_count": null,
   "metadata": {
    "collapsed": true
   },
   "outputs": [],
   "source": []
  }
 ],
 "metadata": {
  "kernelspec": {
   "display_name": "Python 2",
   "language": "python",
   "name": "python2"
  },
  "language_info": {
   "codemirror_mode": {
    "name": "ipython",
    "version": 2
   },
   "file_extension": ".py",
   "mimetype": "text/x-python",
   "name": "python",
   "nbconvert_exporter": "python",
   "pygments_lexer": "ipython2",
   "version": "2.7.12"
  }
 },
 "nbformat": 4,
 "nbformat_minor": 0
}
