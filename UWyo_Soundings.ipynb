{
 "cells": [
  {
   "cell_type": "markdown",
   "metadata": {},
   "source": [
    "### I still need to make a dict, possibly a two-way, for the station numbers and cities! "
   ]
  },
  {
   "cell_type": "code",
   "execution_count": 54,
   "metadata": {
    "collapsed": true
   },
   "outputs": [],
   "source": [
    "StationsList = [\"Wallops Island, VA\",\"Upton, NY\",\"Chatham, MA\",\"Albany, NY\",\"Sterling, VA\",\"Gray, ME\",\\\n",
    "\"Buffalo, NY\",\"Pittsburgh, PA\",\"Wilmington, OH\",\"White Lake, MI\",\"Blacksburg, VA\",\"Greensboro, NC\",\\\n",
    "\"Newport, NC\",\"Charleston, SC\",\"Jacksonville, FL\",\"Tampa Bay, FL\",\"Miami, FL\",\"Tallahassee, FL\",\\\n",
    "\"Shelby Cnty. Airport, AL\",\"Peachtree City, GA\",\"Nashville, TN\",\"Gaylord, MI\",\"Green Bay, WI\",\"Davenport, IA\",\\\n",
    "\"Lincoln, IL\",\"Springfield, MO\",\"Little Rock, AR\",\"Jackson Thomas, MS\",\"Slidell Muni., LA\",\"Lake Charles, LA\",\\\n",
    "\"Shreveport, LA\",\"Norman, OK\",\"Dodge City, KS\",\"Topeka, KS\",\"Omaha, NE\",\"Chanhassen, MN\",\"International Falls, MN\",\\\n",
    "\"Aberdeen, SD\",\"Bismarck, ND\",\"Rapid City, SD\",\"North Platte, NE\",\"Amarillo, TX\",\"Midland, TX\",\"Del Rio, TX\",\\\n",
    "\"Corpus Christi, TX\",\"Brownsville, TX\",\"Ft. Worth, TX\",\"Santa Teresa, NM\",\"Albuquerque, NM\",\"Denver, CO\",\"Grand Juncion, CO\",\\\n",
    "\"Riverton, WY\",\"Glasgow, MT\",\"Great Falls, MT\",\"Salt Lake City, UT\",\"Flagstaff, AZ\",\"Tuscon, AZ\",\"Yuma Prarie Grnds, AZ\",\"Las Vegas, NV\",\\\n",
    "\"Elko, NV\",\"Boise, ID\",\"Spokane, WA\",\"Quillayute, WA\",\"Salem, OR\",\"Medford, OR\",\"Reno, NV\",\\\n",
    "\"Oakland, CA\",\"Vandenberg Air Force Base, CA\",\"San Diego, CA\"]"
   ]
  },
  {
   "cell_type": "code",
   "execution_count": 58,
   "metadata": {
    "collapsed": true
   },
   "outputs": [],
   "source": [
    "StationsList2 = [\"Wallops Island\",\"Upton\",\"Chatham\",\"Albany\",\"Sterling\",\"Gray\",\\\n",
    "\"Buffalo\",\"Pittsburgh\",\"Wilmington\",\"White Lake\",\"Blacksburg\",\"Greensboro\",\\\n",
    "\"Newport\",\"Charleston\",\"Jacksonville\",\"Tampa Bay\",\"Miami\",\"Tallahassee\",\\\n",
    "\"Shelby Cnty. Airport\",\"Peachtree City\",\"Nashville\",\"Gaylord\",\"Green Bay\",\"Davenport\",\\\n",
    "\"Lincoln\",\"Springfield\",\"Little Rock\",\"Jackson Thomas\",\"Slidell Muni.\",\"Lake Charles\",\\\n",
    "\"Shreveport\",\"Norman\",\"Dodge City\",\"Topeka\",\"Omaha\",\"Chanhassen\",\"International Falls\",\\\n",
    "\"Aberdeen\",\"Bismarck\",\"Rapid City\",\"North Platte\",\"Amarillo\",\"Midland\",\"Del Rio\",\\\n",
    "\"Corpus Christi\",\"Brownsville\",\"Ft. Worth\",\"Santa Teresa\",\"Albuquerque\",\"Denver\",\"Grand Juncion\",\\\n",
    "\"Riverton\",\"Glasgow\",\"Great Falls\",\"Salt Lake City\",\"Flagstaff\",\"Tuscon\",\\\n",
    "\"Yuma Prarie Grnds\",\"Las Vegas\",\"Elko\",\"Boise\",\"Spokane\",\"Quillayute\",\"Salem\",\"Medford\",\"Reno\",\\\n",
    "\"Oakland\",\"Vandenberg Air Force Base\",\"San Diego\"]"
   ]
  },
  {
   "cell_type": "code",
   "execution_count": 8,
   "metadata": {
    "collapsed": false
   },
   "outputs": [
    {
     "data": {
      "text/plain": [
       "69"
      ]
     },
     "execution_count": 8,
     "metadata": {},
     "output_type": "execute_result"
    }
   ],
   "source": [
    "len(StationsList)"
   ]
  },
  {
   "cell_type": "code",
   "execution_count": 26,
   "metadata": {
    "collapsed": false
   },
   "outputs": [],
   "source": [
    "StationNumList = [72402,72501,74494,72518,72403,74389,72528,72520,72426,72632,72318,72317,72305,72208,72206,72210,\\\n",
    "72202,72214,72230,72215,72327,72635,72645,74455,74560,72440,72340,72235,72233,72240,72248,72357,72451,72456,\\\n",
    "72558,72649,72747,72659,72764,72662,72562,72363,72265,72261,72251,72250,72249,72364,72365,72469,72476,72672,\\\n",
    "72768,72776,72572,72376,72274,74004,72388,72582,72681,72786,72797,72694,72597,72489,72493,72393,72293]"
   ]
  },
  {
   "cell_type": "code",
   "execution_count": 10,
   "metadata": {
    "collapsed": false
   },
   "outputs": [
    {
     "data": {
      "text/plain": [
       "69"
      ]
     },
     "execution_count": 10,
     "metadata": {},
     "output_type": "execute_result"
    }
   ],
   "source": [
    "len(StationNum)"
   ]
  },
  {
   "cell_type": "code",
   "execution_count": 36,
   "metadata": {
    "collapsed": false
   },
   "outputs": [
    {
     "data": {
      "text/plain": [
       "('Wallops Island, VA', 72402)"
      ]
     },
     "execution_count": 36,
     "metadata": {},
     "output_type": "execute_result"
    }
   ],
   "source": [
    "StationInfo2[0][0],StationInfo2[1][0]"
   ]
  },
  {
   "cell_type": "code",
   "execution_count": 61,
   "metadata": {
    "collapsed": false
   },
   "outputs": [],
   "source": [
    "#StationFinal = dict(zip(StationsList,StationNumList))\n",
    "StationFinal2 = dict(zip(StationsList2,StationNumList))\n",
    "StationFinal_1 = dict(zip(StationNumList,StationsList))\n",
    "#StationFinal2_1 = dict(zip(StationNumList,StationsList2))"
   ]
  },
  {
   "cell_type": "code",
   "execution_count": 63,
   "metadata": {
    "collapsed": false
   },
   "outputs": [
    {
     "data": {
      "text/plain": [
       "{72202: 'Miami, FL',\n",
       " 72206: 'Jacksonville, FL',\n",
       " 72208: 'Charleston, SC',\n",
       " 72210: 'Tampa Bay, FL',\n",
       " 72214: 'Tallahassee, FL',\n",
       " 72215: 'Peachtree City, GA',\n",
       " 72230: 'Shelby Cnty. Airport, AL',\n",
       " 72233: 'Slidell Muni., LA',\n",
       " 72235: 'Jackson Thomas, MS',\n",
       " 72240: 'Lake Charles, LA',\n",
       " 72248: 'Shreveport, LA',\n",
       " 72249: 'Ft. Worth, TX',\n",
       " 72250: 'Brownsville, TX',\n",
       " 72251: 'Corpus Christi, TX',\n",
       " 72261: 'Del Rio, TX',\n",
       " 72265: 'Midland, TX',\n",
       " 72274: 'Tuscon, AZ',\n",
       " 72293: 'San Diego, CA',\n",
       " 72305: 'Newport, NC',\n",
       " 72317: 'Greensboro, NC',\n",
       " 72318: 'Blacksburg, VA',\n",
       " 72327: 'Nashville, TN',\n",
       " 72340: 'Little Rock, AR',\n",
       " 72357: 'Norman, OK',\n",
       " 72363: 'Amarillo, TX',\n",
       " 72364: 'Santa Teresa, NM',\n",
       " 72365: 'Albuquerque, NM',\n",
       " 72376: 'Flagstaff, AZ',\n",
       " 72388: 'Las Vegas, NV',\n",
       " 72393: 'Vandenberg Air Force Base, CA',\n",
       " 72402: 'Wallops Island, VA',\n",
       " 72403: 'Sterling, VA',\n",
       " 72426: 'Wilmington, OH',\n",
       " 72440: 'Springfield, MO',\n",
       " 72451: 'Dodge City, KS',\n",
       " 72456: 'Topeka, KS',\n",
       " 72469: 'Denver, CO',\n",
       " 72476: 'Grand Juncion, CO',\n",
       " 72489: 'Reno, NV',\n",
       " 72493: 'Oakland, CA',\n",
       " 72501: 'Upton, NY',\n",
       " 72518: 'Albany, NY',\n",
       " 72520: 'Pittsburgh, PA',\n",
       " 72528: 'Buffalo, NY',\n",
       " 72558: 'Omaha, NE',\n",
       " 72562: 'North Platte, NE',\n",
       " 72572: 'Salt Lake City, UT',\n",
       " 72582: 'Elko, NV',\n",
       " 72597: 'Medford, OR',\n",
       " 72632: 'White Lake, MI',\n",
       " 72635: 'Gaylord, MI',\n",
       " 72645: 'Green Bay, WI',\n",
       " 72649: 'Chanhassen, MN',\n",
       " 72659: 'Aberdeen, SD',\n",
       " 72662: 'Rapid City, SD',\n",
       " 72672: 'Riverton, WY',\n",
       " 72681: 'Boise, ID',\n",
       " 72694: 'Salem, OR',\n",
       " 72747: 'International Falls, MN',\n",
       " 72764: 'Bismarck, ND',\n",
       " 72768: 'Glasgow, MT',\n",
       " 72776: 'Great Falls, MT',\n",
       " 72786: 'Spokane, WA',\n",
       " 72797: 'Quillayute, WA',\n",
       " 74004: 'Yuma Prarie Grnds, AZ',\n",
       " 74389: 'Gray, ME',\n",
       " 74455: 'Davenport, IA',\n",
       " 74494: 'Chatham, MA',\n",
       " 74560: 'Lincoln, IL'}"
      ]
     },
     "execution_count": 63,
     "metadata": {},
     "output_type": "execute_result"
    }
   ],
   "source": [
    "StationFinal_1"
   ]
  },
  {
   "cell_type": "code",
   "execution_count": 60,
   "metadata": {
    "collapsed": false
   },
   "outputs": [
    {
     "data": {
      "text/plain": [
       "{'Aberdeen, SD': 72659,\n",
       " 'Albany, NY': 72518,\n",
       " 'Albuquerque, NM': 72365,\n",
       " 'Amarillo, TX': 72363,\n",
       " 'Bismarck, ND': 72764,\n",
       " 'Blacksburg, VA': 72318,\n",
       " 'Boise, ID': 72681,\n",
       " 'Brownsville, TX': 72250,\n",
       " 'Buffalo, NY': 72528,\n",
       " 'Chanhassen, MN': 72649,\n",
       " 'Charleston, SC': 72208,\n",
       " 'Chatham, MA': 74494,\n",
       " 'Corpus Christi, TX': 72251,\n",
       " 'Davenport, IA': 74455,\n",
       " 'Del Rio, TX': 72261,\n",
       " 'Denver, CO': 72469,\n",
       " 'Dodge City, KS': 72451,\n",
       " 'Elko, NV': 72582,\n",
       " 'Flagstaff, AZ': 72376,\n",
       " 'Ft. Worth, TX': 72249,\n",
       " 'Gaylord, MI': 72635,\n",
       " 'Glasgow, MT': 72768,\n",
       " 'Grand Juncion, CO': 72476,\n",
       " 'Gray, ME': 74389,\n",
       " 'Great Falls, MT': 72776,\n",
       " 'Green Bay, WI': 72645,\n",
       " 'Greensboro, NC': 72317,\n",
       " 'International Falls, MN': 72747,\n",
       " 'Jackson Thomas, MS': 72235,\n",
       " 'Jacksonville, FL': 72206,\n",
       " 'Lake Charles, LA': 72240,\n",
       " 'Las Vegas, NV': 72388,\n",
       " 'Lincoln, IL': 74560,\n",
       " 'Little Rock, AR': 72340,\n",
       " 'Medford, OR': 72597,\n",
       " 'Miami, FL': 72202,\n",
       " 'Midland, TX': 72265,\n",
       " 'Nashville, TN': 72327,\n",
       " 'Newport, NC': 72305,\n",
       " 'Norman, OK': 72357,\n",
       " 'North Platte, NE': 72562,\n",
       " 'Oakland, CA': 72493,\n",
       " 'Omaha, NE': 72558,\n",
       " 'Peachtree City, GA': 72215,\n",
       " 'Pittsburgh, PA': 72520,\n",
       " 'Quillayute, WA': 72797,\n",
       " 'Rapid City, SD': 72662,\n",
       " 'Reno, NV': 72489,\n",
       " 'Riverton, WY': 72672,\n",
       " 'Salem, OR': 72694,\n",
       " 'Salt Lake City, UT': 72572,\n",
       " 'San Diego, CA': 72293,\n",
       " 'Santa Teresa, NM': 72364,\n",
       " 'Shelby Cnty. Airport, AL': 72230,\n",
       " 'Shreveport, LA': 72248,\n",
       " 'Slidell Muni., LA': 72233,\n",
       " 'Spokane, WA': 72786,\n",
       " 'Springfield, MO': 72440,\n",
       " 'Sterling, VA': 72403,\n",
       " 'Tallahassee, FL': 72214,\n",
       " 'Tampa Bay, FL': 72210,\n",
       " 'Topeka, KS': 72456,\n",
       " 'Tuscon, AZ': 72274,\n",
       " 'Upton, NY': 72501,\n",
       " 'Vandenberg Air Force Base, CA': 72393,\n",
       " 'Wallops Island, VA': 72402,\n",
       " 'White Lake, MI': 72632,\n",
       " 'Wilmington, OH': 72426,\n",
       " 'Yuma Prarie Grnds, AZ': 74004}"
      ]
     },
     "execution_count": 60,
     "metadata": {},
     "output_type": "execute_result"
    }
   ],
   "source": [
    "StationFinal"
   ]
  },
  {
   "cell_type": "code",
   "execution_count": 52,
   "metadata": {
    "collapsed": false
   },
   "outputs": [
    {
     "data": {
      "text/plain": [
       "72659"
      ]
     },
     "execution_count": 52,
     "metadata": {},
     "output_type": "execute_result"
    }
   ],
   "source": [
    "StationFinal[\"Aberdeen\"]"
   ]
  },
  {
   "cell_type": "code",
   "execution_count": 2,
   "metadata": {
    "collapsed": true
   },
   "outputs": [],
   "source": [
    "import os"
   ]
  },
  {
   "cell_type": "code",
   "execution_count": 3,
   "metadata": {
    "collapsed": false
   },
   "outputs": [],
   "source": [
    "os.chdir(\"/Users/ChowdaHead/SkewT-1.1.0/\")"
   ]
  },
  {
   "cell_type": "markdown",
   "metadata": {},
   "source": [
    "### This is necessary for me because I probably need to change the path for the SkewT library..."
   ]
  },
  {
   "cell_type": "code",
   "execution_count": 21,
   "metadata": {
    "collapsed": false
   },
   "outputs": [
    {
     "name": "stdout",
     "output_type": "stream",
     "text": [
      "Using matplotlib backend: agg\n",
      "Populating the interactive namespace from numpy and matplotlib\n"
     ]
    }
   ],
   "source": [
    "%pylab\n",
    "from matplotlib.pyplot import imshow\n",
    "import matplotlib.image as mpimg\n",
    "import time,urllib,urllib2,cStringIO,logging,datetime,webbrowser,\\\n",
    "IPython.display,shutil\n",
    "import numpy as np\n",
    "#from mpl_toolkits.basemap import Basemap, cm\n",
    "#from scipy.io import netcdf\n",
    "import matplotlib.pyplot as plt\n",
    "from skewt import SkewT\n",
    "from bs4 import BeautifulSoup\n",
    "from IPython.core.display import Image\n",
    "from PIL import Image as PILImage\n",
    "import sys, time, datetime\n"
   ]
  },
  {
   "cell_type": "markdown",
   "metadata": {
    "collapsed": false
   },
   "source": [
    "%matplotlib qt"
   ]
  },
  {
   "cell_type": "code",
   "execution_count": 5,
   "metadata": {
    "collapsed": true
   },
   "outputs": [],
   "source": [
    "def UWyoRadiosonde(stn,year,month,day,hour,path,plot_title):\n",
    "    #Denver = 72469\n",
    "\n",
    "    #if hour == 0:\n",
    "        #hour = \"0\"+str(hour) \n",
    "    \n",
    "    try:\n",
    "# 1) \n",
    "# Wyoming URL to download Sounding from\n",
    "        url = \"http://weather.uwyo.edu/cgi-bin/sounding?region=naconf\"+\\\n",
    "    \"&TYPE=TEXT%3ALIST&YEAR=\"+str(year)+\"&MONTH=\"+str(month)+\"&FROM=\"+\\\n",
    "    str(day)+str(hour)+\"&TO=\"+str(day)+str(hour)+\"&STNM=\"+str(stn)\n",
    "        #print url\n",
    "#url = \"http://weather.uwyo.edu/cgi-bin/sounding?region=naconf&TYPE=\\\n",
    "#TEXT%3ALIST&YEAR=2015&MONTH=06&FROM=1400&TO=1400&STNM=72469\"\n",
    "        content = urllib2.urlopen(url).read()\n",
    "\n",
    "# 2)\n",
    "# Remove the html tags\n",
    "        soup = BeautifulSoup(content)\n",
    "        data_text = soup.get_text()\n",
    "\n",
    "# 3)\n",
    "# Split the content by new line.\n",
    "        splitted = data_text.split(\"\\n\",data_text.count(\"\\n\"))\n",
    "\n",
    "# 4)\n",
    "# Write this splitted text to a .txt document\n",
    "        Sounding_filename = str(stn)+'.'+str(year)+str(month)+\\\n",
    "    str(day)+str(hour)+\"Z\"+'.txt'\n",
    "        UWyoFilename = str(year)+\"_\"+str(month)+\"_\"+str(day)+\"_\"+\\\n",
    "        str(hour)+\"_\"+str(stn)+\"_Sounding.png\"\n",
    "\n",
    "        f = open(path+\"/\"+Sounding_filename,'w')\n",
    "        for line in splitted[4:]:      # This is the key part of the function\n",
    "            f.write(line+'\\n')\n",
    "        f.close()\n",
    "        \n",
    "# 5)\n",
    "        S = SkewT.Sounding(path+\"/\"+Sounding_filename)\n",
    "        S.plot_skewt(title=plot_title+\"Z\")  \n",
    "        #fig = plt.figure()\n",
    "        #plt.show()\n",
    "        plt.axis('off')\n",
    "        savefig(path+\"/\"+UWyoFilename)\n",
    "        plt.close()\n",
    "    except ValueError:\n",
    "        logging.exception(\"No Data from website: \"+Sounding_filename)\n",
    "        pass\n",
    "    \n",
    "    print url\n",
    "    return UWyoFilename"
   ]
  },
  {
   "cell_type": "code",
   "execution_count": 11,
   "metadata": {
    "collapsed": false
   },
   "outputs": [
    {
     "name": "stdout",
     "output_type": "stream",
     "text": [
      "(C)urrent time or (a)rchive? C\n",
      "Where would you like the file? (For now you need to provide the full path file)/Users/ChowdaHead/Desktop/\n",
      "Multiple Maps? (y) or (n) y\n",
      "Enter number of different station maps: 1\n",
      "1\n",
      "Which map: (please provide a 5-digit station code) 72402\n",
      "\n",
      "---- Lifted Parcel Quantities ----\n",
      "Parcel: MU\n",
      "Ps  : 850.0hPa\n",
      "TCs :   9.6C\n",
      "TDs :   9.6C\n",
      "-------------\n",
      "Plcl: 850.0hPa\n",
      "Tlcl:   9.6C\n",
      "Plfc: 850.0hPa\n",
      "P_el: 525.7hPa\n",
      "CAPE:  54.2J\n",
      "CIN:    0.0J\n",
      "http://weather.uwyo.edu/cgi-bin/sounding?region=naconf&TYPE=TEXT%3ALIST&YEAR=2017&MONTH=03&FROM=1412&TO=1412&STNM=72402\n"
     ]
    }
   ],
   "source": [
    "\n",
    "Time = raw_input(\"(C)urrent time or (a)rchive? \")\n",
    "if Time == \"C\":\n",
    "    now = datetime.datetime.now() \n",
    "    Day = now.day\n",
    "    Year = now.year\n",
    "    Hour = now.hour\n",
    "    Month = now.month\n",
    "    \n",
    "if Time == \"a\":\n",
    "    Year = input(\"Year: \")\n",
    "    Month = input(\"Month: \")\n",
    "    Day = input(\"Day: \")\n",
    "    Hour = input(\"Would you like 0 or 12Z? \")\n",
    "    if Hour == 0:\n",
    "        Hour = \"0\"+str(Hour)\n",
    "\n",
    "if 0 < Hour < 12:\n",
    "    Hour = 12\n",
    "if 12 < Hour < 24:\n",
    "    Hour = 0\n",
    "    Hour = \"0\"+str(Hour)\n",
    "if Month < 10:\n",
    "    Month = \"0\"+str(Month)\n",
    "if Day < 10:\n",
    "    Day = \"0\"+str(Day)\n",
    "\n",
    "mypath = raw_input(\"Where would you like the file? \\\n",
    "(For now you need to provide the full path file)\")    \n",
    "#path = \"/Users/ChowdaHead/Desktop/Weather_Blog/UWyo_Soundings/\"\n",
    "#mypath = path+str(Year)+\"_\"+str(Month)+\"_\"+str(int(Day))+\"_\"+str(Hour)+\"Z\"\n",
    "\n",
    "if not os.path.isdir(mypath):\n",
    "    os.makedirs(mypath)\n",
    "os.chdir(mypath)    \n",
    "    \n",
    "multiplemaps = raw_input(\"Multiple Maps? (y) or (n) \")\n",
    "if multiplemaps == \"y\":\n",
    "    mapzz = raw_input(\"Enter number of different station maps: \")\n",
    "    print mapzz\n",
    "    for i in range(int(mapzz)):\n",
    "        mapp = raw_input(\"Which map: (please provide a 5-digit station code) \")\n",
    "        UWyoRadiosonde(int(mapp),Year,Month,Day,Hour,mypath,mapp+ \"Sounding:  \")\n",
    "        #time.sleep(45)\n",
    "\n",
    "if multiplemaps == \"n\":\n",
    "    Input = raw_input(\"The default will run Denver and Grand Junction soundings. \\\n",
    "Run these (y) or choose other station (n)? \")\n",
    "\n",
    "# UWyoRadiosonde(station#,year,month(numerical),day(numerical),time(00 or 12 Z),file path location, plot title)\n",
    "\n",
    "    if Input == \"y\":\n",
    "# Denver\n",
    "        UWyoRadiosonde(72476,Year,Month,Day,Hour,mypath,\"Grand Junction Sounding: \")\n",
    "# Grand Junction\n",
    "        UWyoRadiosonde(72469,Year,Month,Day,Hour,mypath,\"Denver Sounding: \")\n",
    "\n",
    "    if Input == \"n\":\n",
    "        StnInput = input(\"Choose 5 digit station number: \")\n",
    "        UWyoRadiosonde(StnInput,Year,Month,Day,Hour,mypath,str(StnInout)+\" Sounding: \")\n"
   ]
  },
  {
   "cell_type": "code",
   "execution_count": 12,
   "metadata": {
    "collapsed": false
   },
   "outputs": [
    {
     "name": "stdout",
     "output_type": "stream",
     "text": [
      "http://weather.uwyo.edu/cgi-bin/sounding?region=naconf&TYPE=TEXT%3ALIST&YEAR=2017&MONTH=03&FROM=1412&TO=1412&STNM=72469\n"
     ]
    },
    {
     "data": {
      "text/plain": [
       "'2017_03_14_12_72469_Sounding.png'"
      ]
     },
     "execution_count": 12,
     "metadata": {},
     "output_type": "execute_result"
    }
   ],
   "source": [
    "# UWyoRadiosonde(stn,year,month,day,hour,path,plot_title)\n",
    "UWyoRadiosonde(72469,Year,Month,Day,Hour,mypath,\"boobz \")"
   ]
  },
  {
   "cell_type": "code",
   "execution_count": null,
   "metadata": {
    "collapsed": true
   },
   "outputs": [],
   "source": []
  }
 ],
 "metadata": {
  "kernelspec": {
   "display_name": "Python 2",
   "language": "python",
   "name": "python2"
  },
  "language_info": {
   "codemirror_mode": {
    "name": "ipython",
    "version": 2
   },
   "file_extension": ".py",
   "mimetype": "text/x-python",
   "name": "python",
   "nbconvert_exporter": "python",
   "pygments_lexer": "ipython2",
   "version": "2.7.12"
  }
 },
 "nbformat": 4,
 "nbformat_minor": 0
}
