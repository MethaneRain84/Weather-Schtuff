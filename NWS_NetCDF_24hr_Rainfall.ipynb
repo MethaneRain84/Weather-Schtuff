{
 "cells": [
  {
   "cell_type": "code",
   "execution_count": 1,
   "metadata": {
    "collapsed": false
   },
   "outputs": [
    {
     "name": "stderr",
     "output_type": "stream",
     "text": [
      "/Users/ChowdaHead/anaconda/lib/python2.7/site-packages/matplotlib/__init__.py:1069: UserWarning: Bad val \"TkAgg or echo backend : Agg\" on line #1\n",
      "\t\"backend : TkAgg or echo backend : Agg\n",
      "\"\n",
      "\tin file \"/Users/ChowdaHead/.matplotlib/matplotlibrc\"\n",
      "\tKey backend: Unrecognized backend string \"tkagg or echo backend : agg\": valid strings are [u'pgf', u'cairo', u'MacOSX', u'CocoaAgg', u'gdk', u'ps', u'GTKAgg', u'nbAgg', u'GTK', u'Qt5Agg', u'template', u'emf', u'GTK3Cairo', u'GTK3Agg', u'WX', u'Qt4Agg', u'TkAgg', u'agg', u'svg', u'GTKCairo', u'WXAgg', u'WebAgg', u'pdf']\n",
      "  (val, error_details, msg))\n"
     ]
    },
    {
     "name": "stdout",
     "output_type": "stream",
     "text": [
      "Using matplotlib backend: agg\n",
      "Populating the interactive namespace from numpy and matplotlib\n"
     ]
    }
   ],
   "source": [
    "%pylab\n",
    "from matplotlib.pyplot import imshow\n",
    "import matplotlib.image as mpimg\n",
    "import time,urllib,urllib2,cStringIO,logging,datetime,webbrowser,\\\n",
    "IPython.display,shutil,sys, os\n",
    "import numpy as np\n",
    "from mpl_toolkits.basemap import Basemap, cm\n",
    "from scipy.io import netcdf\n",
    "import matplotlib.pyplot as plt\n",
    "from bs4 import BeautifulSoup\n",
    "from IPython.core.display import Image\n",
    "from PIL import Image as PILImage"
   ]
  },
  {
   "cell_type": "code",
   "execution_count": 2,
   "metadata": {
    "collapsed": true
   },
   "outputs": [],
   "source": [
    "import tarfile\n",
    " \n",
    "def untar(fname):\n",
    "    if (fname.endswith(\"tar.gz\")):\n",
    "        tar = tarfile.open(fname)\n",
    "        tar.extractall()\n",
    "        tar.close()\n",
    "        print \"Extracted in Current Directory\"\n",
    "    else:\n",
    "        print \"Not a tar.gz file: '%s '\" % sys.argv[0]\n",
    "        "
   ]
  },
  {
   "cell_type": "raw",
   "metadata": {
    "collapsed": true
   },
   "source": [
    "netcdf.netcdf_file?"
   ]
  },
  {
   "cell_type": "code",
   "execution_count": 3,
   "metadata": {
    "collapsed": true
   },
   "outputs": [],
   "source": [
    "def Rain24hrTotal(year,month,day,Daypath,mypath):\n",
    "    untar(\"/Users/ChowdaHead/Desktop/nws_precip_\"+Daypath+\"_nc.tar.gz\")\n",
    "    \n",
    "    if month < 10:\n",
    "        month = \"0\"+str(month)\n",
    "    if day < 10:\n",
    "        day = \"0\"+str(day)\n",
    "        \n",
    "    # plot rainfall from NWS using special precipitation\n",
    "# colormap used by the NWS, and included in basemap.\n",
    "  \n",
    "    nc = netcdf.netcdf_file(\"/Users/ChowdaHead/Desktop/Weather_Blog/\"+\\\n",
    "    \"NWS_24hr_Precip_Archive\"+\\\n",
    "    \"/Conus/nws_precip_conus_\"+Daypath+\".nc\")\n",
    "\n",
    "    PrecipFilename = str(Year)+\"_\"+str(Month)+\"_\"+str(Day)+\"_nws_precip_conus.png\"\n",
    "# data from http://water.weather.gov/precip/\n",
    "    prcpvar = nc.variables['amountofprecip']\n",
    "    data = 0.01*prcpvar[:]\n",
    "    latcorners = nc.variables['lat'][:]\n",
    "    loncorners = -nc.variables['lon'][:]\n",
    "    lon_0 = -nc.variables['true_lon'].getValue()\n",
    "    lat_0 = nc.variables['true_lat'].getValue()\n",
    "    nc.close()\n",
    "# create figure and axes instances\n",
    "    fig = plt.figure(figsize=(8,8))\n",
    "    ax = fig.add_axes([0.1,0.1,0.8,0.8])\n",
    "# create polar stereographic Basemap instance.\n",
    "    m = Basemap(projection='stere',lon_0=lon_0,lat_0=90.,lat_ts=lat_0,\\\n",
    "            llcrnrlat=latcorners[0],urcrnrlat=latcorners[2],\\\n",
    "            llcrnrlon=loncorners[0],urcrnrlon=loncorners[2],\\\n",
    "            rsphere=6371200.,resolution='l',area_thresh=10000)\n",
    "# draw coastlines, state and country boundaries, edge of map.\n",
    "    m.drawcoastlines()\n",
    "    m.drawstates()\n",
    "    m.drawcountries()\n",
    "# draw parallels.\n",
    "    parallels = np.arange(0.,90,10.)\n",
    "    m.drawparallels(parallels,labels=[1,0,0,0],fontsize=10)\n",
    "# draw meridians\n",
    "    meridians = np.arange(180.,360.,10.)\n",
    "    m.drawmeridians(meridians,labels=[0,0,0,1],fontsize=10)\n",
    "    ny = data.shape[0]; nx = data.shape[1]\n",
    "    # get lat/lons of ny by nx evenly space grid.\n",
    "    lons, lats = m.makegrid(nx, ny) \n",
    "    x, y = m(lons, lats) # compute map proj coordinates.\n",
    "# draw filled contours.\n",
    "    clevs = [0,1,2.5,5,7.5,10,15,20,30,40,50,70,100,150,\\\n",
    "             200,250,300,400,500,600,750]\n",
    "    cs = m.contourf(x,y,data,clevs,cmap=cm.s3pcpn)\n",
    "# add colorbar.\n",
    "    cbar = m.colorbar(cs,location='bottom',pad=\"5%\")\n",
    "    cbar.set_label('mm')\n",
    "# add title\n",
    "    plt.title(prcpvar.long_name+' for period ending '+\\\n",
    "              prcpvar.dateofdata)\n",
    "    plt.savefig(mypath+PrecipFilename)\n",
    "    plt.savefig(mypath+PrecipFilename)\n",
    "    plt.axis('off')\n",
    "    #plt.show()\n",
    "    plt.close()\n",
    "    \n",
    "    return PrecipFilename"
   ]
  },
  {
   "cell_type": "code",
   "execution_count": 4,
   "metadata": {
    "collapsed": false
   },
   "outputs": [
    {
     "name": "stdout",
     "output_type": "stream",
     "text": [
      "mypath should be: /Users/ChowdaHead/Desktop/Weather_Blog/NWS_24Hr_Rainfall/?????\n"
     ]
    }
   ],
   "source": [
    "print \"mypath should be: /Users/ChowdaHead/Desktop/Weather_Blog/NWS_24Hr_Rainfall/?????\""
   ]
  },
  {
   "cell_type": "code",
   "execution_count": 5,
   "metadata": {
    "collapsed": false
   },
   "outputs": [
    {
     "name": "stdout",
     "output_type": "stream",
     "text": [
      "(C)urrent time or (a)rchive? a\n",
      "Year: 2017\n",
      "Month: 3\n",
      "Day: 22\n",
      "Where would you like the file? (For now you need to provide the full path file)/Users/ChowdaHead/Desktop/\n",
      "Downloaded? y\n",
      "Extracted in Current Directory\n"
     ]
    },
    {
     "name": "stderr",
     "output_type": "stream",
     "text": [
      "/Users/ChowdaHead/anaconda/lib/python2.7/site-packages/scipy/io/netcdf.py:297: RuntimeWarning: Cannot close a netcdf_file opened with mmap=True, when netcdf_variables or arrays referring to its data still exist. All data arrays obtained from such files refer directly to data on disk, and must be copied before the file can be cleanly closed. (See netcdf_file docstring for more information on mmap.)\n",
      "  ), category=RuntimeWarning)\n"
     ]
    }
   ],
   "source": [
    "now = datetime.datetime.now()\n",
    "Time = raw_input(\"(C)urrent time or (a)rchive? \")\n",
    "if Time == \"C\": \n",
    "    Day = now.day\n",
    "    Year = now.year\n",
    "    Month = now.month\n",
    "    \n",
    "if Time == \"a\":\n",
    "    Year = input(\"Year: \")\n",
    "    Month = input(\"Month: \")\n",
    "    Day = input(\"Day: \")\n",
    "\n",
    "if Month < 10:\n",
    "    Month = \"0\"+str(Month)\n",
    "if Day < 10:\n",
    "    Day = \"0\"+str(Day)\n",
    "\n",
    "mypath = raw_input(\"Where would you like the file? \\\n",
    "(For now you need to provide the full path file)\")    \n",
    "#path = \"/Users/ChowdaHead/Desktop/Weather_Blog/UWyo_Soundings/\"\n",
    "#mypath = path+str(Year)+\"_\"+str(Month)+\"_\"+str(int(Day))+\"_\"+str(Hour)+\"Z\"\n",
    "Daypath = str(Year)+str(Month)+str(Day)\n",
    "\n",
    "if not os.path.isdir(mypath):\n",
    "    os.makedirs(mypath)\n",
    "os.chdir(mypath)\n",
    "\n",
    "os.chdir(\"/Users/ChowdaHead/Desktop/Weather_Blog/NWS_24hr_Precip_Archive/Conus/\")\n",
    "tits = webbrowser.open(\"http://water.weather.gov/precip/download.php\")\n",
    "fatty = raw_input(\"Downloaded? \")\n",
    "if fatty == \"y\":\n",
    "    Rain24hrTotal(Year,Month,Day,Daypath,mypath)\n",
    "    shutil.move(\"/Users/ChowdaHead/Desktop/nws_precip_\"+\\\n",
    "    str(Year)+str(Month)+str(Day)+\"_nc.tar.gz\"\\\n",
    "    , \"/Users/ChowdaHead/.Trash/nws_precip_\"+\\\n",
    "    str(Year)+str(Month)+str(Day)+\"_nc.tar.gz\")"
   ]
  },
  {
   "cell_type": "raw",
   "metadata": {},
   "source": [
    "os.chdir(\"/Users/ChowdaHead/Desktop/Weather_Blog/NWS_24hr_Precip_Archive/Conus/\")"
   ]
  },
  {
   "cell_type": "raw",
   "metadata": {},
   "source": [
    "fatso = raw_input(\"24 Hour Precip? \")\n",
    "if fatso ==  \"y\":\n",
    "    webbrowser.open(\"http://water.weather.gov/precip/download.php\")\n",
    "    \n",
    "    fatty = raw_input(\"Downloaded? \")\n",
    "    if fatty == \"y\":\n",
    "        Rain24hrTotal(yearz,monthz,dayz)\n",
    "        shutil.move(\"/Users/ChowdaHead/Desktop/nws_precip_\"+\\\n",
    "                    str(yearz)+str(monthz)+str(dayz)+\"_nc.tar.gz\"\\\n",
    "                    , \"/Users/ChowdaHead/.Trash/nws_precip_\"+\\\n",
    "                    str(yearz)+str(monthz)+str(dayz)+\"_nc.tar.gz\")\n",
    "        #shutil.move(\"/Users/ChowdaHead/Desktop/nws_precip_\"+\\\n",
    "                    #str(yearz)+str(monthz)+str(dayz)+\"_nc\",\\\n",
    "                    #\"/Users/ChowdaHead/Desktop/Weather_Blog/NWS_24hr_Precip_Archive/\n",
    "                    #nws_precip_\"+str(yearz)+str(monthz)+str(dayz)+\".nc\")\n",
    "else:\n",
    "    print \"\\nFine\\n\" "
   ]
  }
 ],
 "metadata": {
  "kernelspec": {
   "display_name": "Python 2",
   "language": "python",
   "name": "python2"
  },
  "language_info": {
   "codemirror_mode": {
    "name": "ipython",
    "version": 2
   },
   "file_extension": ".py",
   "mimetype": "text/x-python",
   "name": "python",
   "nbconvert_exporter": "python",
   "pygments_lexer": "ipython2",
   "version": "2.7.12"
  }
 },
 "nbformat": 4,
 "nbformat_minor": 0
}
