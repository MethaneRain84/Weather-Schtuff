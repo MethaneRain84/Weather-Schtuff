{
 "cells": [
  {
   "cell_type": "markdown",
   "metadata": {},
   "source": [
    "# University of Wyoming Radiosonde Data and SkewT Library"
   ]
  },
  {
   "cell_type": "markdown",
   "metadata": {},
   "source": [
    "## Justin Richling  4/17/2017"
   ]
  },
  {
   "cell_type": "markdown",
   "metadata": {},
   "source": [
    "### This is a list of all the stations, the first list is with state, second list is just the cities"
   ]
  },
  {
   "cell_type": "code",
   "execution_count": 1,
   "metadata": {
    "collapsed": true
   },
   "outputs": [],
   "source": [
    "StationsList = [\"Wallops Island, VA\",\"Upton, NY\",\"Chatham, MA\",\"Albany, NY\",\"Sterling, VA\",\"Gray, ME\",\\\n",
    "\"Buffalo, NY\",\"Pittsburgh, PA\",\"Wilmington, OH\",\"White Lake, MI\",\"Blacksburg, VA\",\"Greensboro, NC\",\\\n",
    "\"Newport, NC\",\"Charleston, SC\",\"Jacksonville, FL\",\"Tampa Bay, FL\",\"Miami, FL\",\"Tallahassee, FL\",\\\n",
    "\"Shelby Cnty. Airport, AL\",\"Peachtree City, GA\",\"Nashville, TN\",\"Gaylord, MI\",\"Green Bay, WI\",\"Davenport, IA\",\\\n",
    "\"Lincoln, IL\",\"Springfield, MO\",\"Little Rock, AR\",\"Jackson Thomas, MS\",\"Slidell Muni., LA\",\"Lake Charles, LA\",\\\n",
    "\"Shreveport, LA\",\"Norman, OK\",\"Dodge City, KS\",\"Topeka, KS\",\"Omaha, NE\",\"Chanhassen, MN\",\"International Falls, MN\",\\\n",
    "\"Aberdeen, SD\",\"Bismarck, ND\",\"Rapid City, SD\",\"North Platte, NE\",\"Amarillo, TX\",\"Midland, TX\",\"Del Rio, TX\",\\\n",
    "\"Corpus Christi, TX\",\"Brownsville, TX\",\"Ft. Worth, TX\",\"Santa Teresa, NM\",\"Albuquerque, NM\",\"Denver, CO\",\"Grand Juncion, CO\",\\\n",
    "\"Riverton, WY\",\"Glasgow, MT\",\"Great Falls, MT\",\"Salt Lake City, UT\",\"Flagstaff, AZ\",\"Tuscon, AZ\",\"Yuma Prarie Grnds, AZ\",\"Las Vegas, NV\",\\\n",
    "\"Elko, NV\",\"Boise, ID\",\"Spokane, WA\",\"Quillayute, WA\",\"Salem, OR\",\"Medford, OR\",\"Reno, NV\",\\\n",
    "\"Oakland, CA\",\"Vandenberg Air Force Base, CA\",\"San Diego, CA\"]"
   ]
  },
  {
   "cell_type": "code",
   "execution_count": 2,
   "metadata": {
    "collapsed": true
   },
   "outputs": [],
   "source": [
    "StationsList2 = [\"Wallops Island\",\"Upton\",\"Chatham\",\"Albany\",\"Sterling\",\"Gray\",\\\n",
    "\"Buffalo\",\"Pittsburgh\",\"Wilmington\",\"White Lake\",\"Blacksburg\",\"Greensboro\",\\\n",
    "\"Newport\",\"Charleston\",\"Jacksonville\",\"Tampa Bay\",\"Miami\",\"Tallahassee\",\\\n",
    "\"Shelby Cnty. Airport\",\"Peachtree City\",\"Nashville\",\"Gaylord\",\"Green Bay\",\"Davenport\",\\\n",
    "\"Lincoln\",\"Springfield\",\"Little Rock\",\"Jackson Thomas\",\"Slidell Muni.\",\"Lake Charles\",\\\n",
    "\"Shreveport\",\"Norman\",\"Dodge City\",\"Topeka\",\"Omaha\",\"Chanhassen\",\"International Falls\",\\\n",
    "\"Aberdeen\",\"Bismarck\",\"Rapid City\",\"North Platte\",\"Amarillo\",\"Midland\",\"Del Rio\",\\\n",
    "\"Corpus Christi\",\"Brownsville\",\"Ft. Worth\",\"Santa Teresa\",\"Albuquerque\",\"Denver\",\"Grand Juncion\",\\\n",
    "\"Riverton\",\"Glasgow\",\"Great Falls\",\"Salt Lake City\",\"Flagstaff\",\"Tuscon\",\\\n",
    "\"Yuma Prarie Grnds\",\"Las Vegas\",\"Elko\",\"Boise\",\"Spokane\",\"Quillayute\",\"Salem\",\"Medford\",\"Reno\",\\\n",
    "\"Oakland\",\"Vandenberg Air Force Base\",\"San Diego\"]"
   ]
  },
  {
   "cell_type": "markdown",
   "metadata": {},
   "source": [
    "### Corresponding UWyo station numbers to cities above"
   ]
  },
  {
   "cell_type": "code",
   "execution_count": 5,
   "metadata": {
    "collapsed": false
   },
   "outputs": [],
   "source": [
    "StationNumList = [72402,72501,74494,72518,72403,74389,72528,72520,72426,72632,72318,72317,72305,72208,72206,72210,\\\n",
    "72202,72214,72230,72215,72327,72635,72645,74455,74560,72440,72340,72235,72233,72240,72248,72357,72451,72456,\\\n",
    "72558,72649,72747,72659,72764,72662,72562,72363,72265,72261,72251,72250,72249,72364,72365,72469,72476,72672,\\\n",
    "72768,72776,72572,72376,72274,74004,72388,72582,72681,72786,72797,72694,72597,72489,72493,72393,72293]"
   ]
  },
  {
   "cell_type": "code",
   "execution_count": 6,
   "metadata": {
    "collapsed": false
   },
   "outputs": [],
   "source": [
    "# Make a new list of paired stations/numbers\n",
    "StationFinal2 = dict(zip(StationsList2,StationNumList))\n",
    "StationFinal_1 = dict(zip(StationNumList,StationsList))"
   ]
  },
  {
   "cell_type": "raw",
   "metadata": {
    "collapsed": false
   },
   "source": [
    "os.chdir(\"/Users/.../SkewT-1.1.0/\")"
   ]
  },
  {
   "cell_type": "code",
   "execution_count": null,
   "metadata": {
    "collapsed": true
   },
   "outputs": [],
   "source": [
    "%pylab\n",
    "from matplotlib.pyplot import imshow\n",
    "import matplotlib.image as mpimg\n",
    "import time,urllib,urllib2,cStringIO,logging,datetime,webbrowser,\\\n",
    "IPython.display,shutil,sys,os\n",
    "import numpy as np\n",
    "import matplotlib.pyplot as plt\n",
    "from skewt import SkewT\n",
    "from bs4 import BeautifulSoup\n",
    "from IPython.core.display import Image\n",
    "from PIL import Image as PILImage"
   ]
  },
  {
   "cell_type": "code",
   "execution_count": null,
   "metadata": {
    "collapsed": true
   },
   "outputs": [],
   "source": [
    "# If you want to have the sounding displayed in the notebook\n",
    "#%matplotlib qt"
   ]
  },
  {
   "cell_type": "code",
   "execution_count": 10,
   "metadata": {
    "collapsed": true
   },
   "outputs": [],
   "source": [
    "# This function will create a sounding in .png format and a copy of the raw data in a .txt file\n",
    "def UWyoRadiosonde(stn,year,month,day,hour,path,plot_title):\n",
    "    \n",
    "    try:\n",
    "# 1) \n",
    "# Wyoming URL to download Sounding from\n",
    "        url = \"http://weather.uwyo.edu/cgi-bin/sounding?region=naconf\"+\\\n",
    "    \"&TYPE=TEXT%3ALIST&YEAR=\"+str(year)+\"&MONTH=\"+str(month)+\"&FROM=\"+\\\n",
    "    str(day)+str(hour)+\"&TO=\"+str(day)+str(hour)+\"&STNM=\"+str(stn)\n",
    "        #print url\n",
    "#url = \"http://weather.uwyo.edu/cgi-bin/sounding?region=naconf&TYPE=\\\n",
    "#TEXT%3ALIST&YEAR=2015&MONTH=06&FROM=1400&TO=1400&STNM=72469\"\n",
    "        content = urllib2.urlopen(url).read()\n",
    "\n",
    "# 2)\n",
    "# Remove the html tags\n",
    "        soup = BeautifulSoup(content)\n",
    "        data_text = soup.get_text()\n",
    "\n",
    "# 3)\n",
    "# Split the content by new line.\n",
    "        splitted = data_text.split(\"\\n\",data_text.count(\"\\n\"))\n",
    "\n",
    "# 4)\n",
    "# Write this splitted text to a .txt document\n",
    "        Sounding_filename = str(stn)+'.'+str(year)+str(month)+\\\n",
    "    str(day)+str(hour)+\"Z\"+'.txt'\n",
    "        UWyoFilename = str(year)+\"_\"+str(month)+\"_\"+str(day)+\"_\"+\\\n",
    "        str(hour)+\"_\"+str(stn)+\"_Sounding.png\"\n",
    "\n",
    "        f = open(path+\"/\"+Sounding_filename,'w')\n",
    "        for line in splitted[4:]:      # This is the key part of the function\n",
    "            f.write(line+'\\n')\n",
    "        f.close()\n",
    "        \n",
    "# 5)\n",
    "        S = SkewT.Sounding(path+\"/\"+Sounding_filename)\n",
    "        S.plot_skewt(title=plot_title+\"Z\")  \n",
    "        #fig = plt.figure()\n",
    "        #plt.show()\n",
    "        plt.axis('off')\n",
    "        savefig(path+\"/\"+UWyoFilename)\n",
    "        plt.close()\n",
    "    except ValueError:\n",
    "        logging.exception(\"No Data from website: \"+Sounding_filename)\n",
    "        pass\n",
    "    \n",
    "    print url"
   ]
  },
  {
   "cell_type": "code",
   "execution_count": null,
   "metadata": {
    "collapsed": true
   },
   "outputs": [],
   "source": [
    "\n",
    "Time = raw_input(\"(C)urrent time or (a)rchive? \")\n",
    "if Time == \"C\":\n",
    "    now = datetime.datetime.now() \n",
    "    Day = now.day\n",
    "    Year = now.year\n",
    "    Hour = now.hour\n",
    "    Month = now.month\n",
    "    \n",
    "if Time == \"a\":\n",
    "    Year = input(\"Year: \")\n",
    "    Month = input(\"Month: \")\n",
    "    Day = input(\"Day: \")\n",
    "    Hour = input(\"Would you like 0 or 12Z? \")\n",
    "    if Hour == 0:\n",
    "        Hour = \"0\"+str(Hour)\n",
    "\n",
    "if 0 < Hour < 12:\n",
    "    Hour = 12\n",
    "if 12 < Hour < 24:\n",
    "    Hour = 0\n",
    "    Hour = \"0\"+str(Hour)\n",
    "if Month < 10:\n",
    "    Month = \"0\"+str(Month)\n",
    "if Day < 10:\n",
    "    Day = \"0\"+str(Day)\n",
    "\n",
    "mypath = raw_input(\"Where would you like the file? \\\n",
    "(For now you need to provide the full path file)\")    \n",
    "\n",
    "if not os.path.isdir(mypath):\n",
    "    os.makedirs(mypath)\n",
    "os.chdir(mypath)    \n",
    "    \n",
    "multiplemaps = raw_input(\"Multiple Maps? (y) or (n) \")\n",
    "if multiplemaps == \"y\":\n",
    "    mapzz = raw_input(\"Enter number of different station maps: \")\n",
    "    print mapzz\n",
    "    for i in range(int(mapzz)):\n",
    "        mapp = raw_input(\"Which map: (please provide a 5-digit station code) \")\n",
    "        UWyoRadiosonde(int(mapp),Year,Month,Day,Hour,mypath,mapp+ \"Sounding:  \")\n",
    "        #time.sleep(45)\n",
    "\n",
    "if multiplemaps == \"n\":\n",
    "    Input = raw_input(\"The default will run Denver and Grand Junction soundings. \\\n",
    "Run these (y) or choose single other station (n)? \")\n",
    "\n",
    "# UWyoRadiosonde(station#,year,month(numerical),day(numerical),time(00 or 12 Z),file path location, plot title)\n",
    "\n",
    "    if Input == \"y\":\n",
    "# Denver\n",
    "        UWyoRadiosonde(72476,Year,Month,Day,Hour,mypath,\"Grand Junction Sounding: \")\n",
    "# Grand Junction\n",
    "        UWyoRadiosonde(72469,Year,Month,Day,Hour,mypath,\"Denver Sounding: \")\n",
    "\n",
    "    if Input == \"n\":\n",
    "        StnInput = input(\"Choose 5 digit station number: \")\n",
    "        UWyoRadiosonde(StnInput,Year,Month,Day,Hour,mypath,str(StnInout)+\" Sounding: \")\n"
   ]
  }
 ],
 "metadata": {
  "kernelspec": {
   "display_name": "Python 2",
   "language": "python",
   "name": "python2"
  },
  "language_info": {
   "codemirror_mode": {
    "name": "ipython",
    "version": 2
   },
   "file_extension": ".py",
   "mimetype": "text/x-python",
   "name": "python",
   "nbconvert_exporter": "python",
   "pygments_lexer": "ipython2",
   "version": "2.7.12"
  }
 },
 "nbformat": 4,
 "nbformat_minor": 0
}
