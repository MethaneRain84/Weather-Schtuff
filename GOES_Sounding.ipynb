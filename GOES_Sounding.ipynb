{
 "cells": [
  {
   "cell_type": "code",
   "execution_count": 1,
   "metadata": {
    "collapsed": false
   },
   "outputs": [
    {
     "name": "stdout",
     "output_type": "stream",
     "text": [
      "Using matplotlib backend: MacOSX\n",
      "Populating the interactive namespace from numpy and matplotlib\n"
     ]
    }
   ],
   "source": [
    "%pylab\n",
    "import urllib2\n",
    "import time, os\n",
    "import webbrowser\n",
    "import logging\n",
    "#%matplotlib inline\n",
    "import urllib, cStringIO\n",
    "from PIL import Image as PILImage"
   ]
  },
  {
   "cell_type": "code",
   "execution_count": 2,
   "metadata": {
    "collapsed": true
   },
   "outputs": [],
   "source": [
    "AxisTitle = [\"Ft Collins Sounding (GOES): \",\"Boulder Sounding (GOES): \"]\n",
    "Ext = [\"_FtCollins_Sounding.png\",\"_Boulder_Sounding.png\" ]\n",
    "Ending = [\"fcl\",\"kbol\"]"
   ]
  },
  {
   "cell_type": "code",
   "execution_count": 3,
   "metadata": {
    "collapsed": true
   },
   "outputs": [],
   "source": [
    "def GOESsounding(path,end,ext,axis_title):\n",
    "   \n",
    "    now = datetime.datetime.now() \n",
    "    Year = now.year\n",
    "    Day = now.day\n",
    "    Hour = now.hour\n",
    "    Month = now.month \n",
    "    Minute = now.minute\n",
    "    \n",
    "    if Month < 10:\n",
    "        Month = \"0\"+str(Month)\n",
    "    if Day < 10:\n",
    "        Day = \"0\"+str(Day) \n",
    "    if Hour < 10:\n",
    "        Hour = \"0\"+str(Hour)\n",
    "    if Minute < 10:\n",
    "        Minute = \"0\"+str(Minute)\n",
    "        \n",
    "#######################################################################    \n",
    "# Boulder\n",
    "#######################################################################\n",
    "\n",
    "    try:\n",
    "        picture_page = \"http://www.ospo.noaa.gov/data/soundings/\"+\\\n",
    "        \"sfov/skewt/\"+end+\".gif\"    \n",
    "        print picture_page\n",
    "# Open a browser to the page\n",
    "    #webbrowser.open(picture_page) \n",
    "\n",
    "# open the web page picture and read it into a variable\n",
    "        opener1 = urllib2.build_opener()\n",
    "        page1 = opener1.open(picture_page)\n",
    "        my_picture = page1.read()\n",
    "\n",
    "# open file for binary write and save picture\n",
    "# picture_page[-4:] extracts extension eg. .gif\n",
    "# (most image file extensions have three letters, otherwise modify)\n",
    "        SoundFilename = str(Year)+\"_\"+str(Month)+\"_\"+str(Day)+\\\n",
    "    \"_\"+str(Hour)+\"_\"+str(Minute)+ext\n",
    "        fout = open(path+\"/\"+SoundFilename, \"wb\")\n",
    "        fout.write(my_picture)\n",
    "        fout.close()\n",
    "\n",
    "# test to see if it saved correctly\n",
    "        #webbrowser.open(SurfAnalFilename)                   \n",
    "    except urllib2.HTTPError, err:\n",
    "        if err.code == 404:\n",
    "            logging.exception(\"No Data from website\")\n",
    "            pass\n",
    "        else:\n",
    "            raise\n",
    "\n",
    "\n",
    "    file = cStringIO.StringIO(urllib.urlopen(picture_page).read())\n",
    "    img = PILImage.open(file)\n",
    "    fig, ax = subplots(figsize=(15, 8))\n",
    "    ax.set_title(axis_title+str(Year)+\" \"+str(Month)+\\\n",
    "                 \" \"+str(Day)+\" \"+\"12Z\")\n",
    "    ax.imshow(img, interpolation='nearest')\n",
    "    plt.axis('off')\n",
    "    tight_layout()\n",
    "    #plt.show()\n",
    "    plt.close()\n",
    "\n",
    "    \n",
    "\n",
    "    return SoundFilename\n",
    "\n",
    "\n",
    "\n",
    "\n",
    "#http://www.ospo.noaa.gov/Products/atmosphere/soundings/sfov/skewt/fcl.html\n",
    "    \n",
    "#http://www.ospo.noaa.gov/data/soundings/sfov/skewt/kbol.gif"
   ]
  },
  {
   "cell_type": "code",
   "execution_count": 4,
   "metadata": {
    "collapsed": false
   },
   "outputs": [
    {
     "name": "stdout",
     "output_type": "stream",
     "text": [
      "/Users/ChowdaHead/Desktop/Weather_Blog/GOES_Satellite/\n"
     ]
    }
   ],
   "source": [
    "print \"/Users/ChowdaHead/Desktop/Weather_Blog/GOES_Satellite/\""
   ]
  },
  {
   "cell_type": "code",
   "execution_count": 5,
   "metadata": {
    "collapsed": false
   },
   "outputs": [
    {
     "name": "stdout",
     "output_type": "stream",
     "text": [
      "Where would you like the file? /Users/ChowdaHead/Desktop/\n",
      "Ft Collins Sounding \n",
      "Boulder Sounding \n",
      "http://www.ospo.noaa.gov/data/soundings/sfov/skewt/fcl.gif\n"
     ]
    },
    {
     "name": "stderr",
     "output_type": "stream",
     "text": [
      "/Users/ChowdaHead/anaconda/lib/python2.7/site-packages/matplotlib/tight_layout.py:222: UserWarning: tight_layout : falling back to Agg renderer\n",
      "  warnings.warn(\"tight_layout : falling back to Agg renderer\")\n"
     ]
    },
    {
     "name": "stdout",
     "output_type": "stream",
     "text": [
      "http://www.ospo.noaa.gov/data/soundings/sfov/skewt/kbol.gif\n"
     ]
    }
   ],
   "source": [
    "path = raw_input(\"Where would you like the file? \")\n",
    "if not os.path.isdir(path):\n",
    "    os.makedirs(path)\n",
    "os.chdir(path)\n",
    "for i in range(2):\n",
    "    print AxisTitle[i][:-8]\n",
    "#Input = raw_input(\"\")\n",
    "    #GOESsounding(path,end,ext,axis_title)\n",
    "for i in range(2):\n",
    "    GOESsounding(path,Ending[i],Ext[i],AxisTitle[i])"
   ]
  },
  {
   "cell_type": "code",
   "execution_count": null,
   "metadata": {
    "collapsed": true
   },
   "outputs": [],
   "source": []
  }
 ],
 "metadata": {
  "kernelspec": {
   "display_name": "Python 2",
   "language": "python",
   "name": "python2"
  },
  "language_info": {
   "codemirror_mode": {
    "name": "ipython",
    "version": 2
   },
   "file_extension": ".py",
   "mimetype": "text/x-python",
   "name": "python",
   "nbconvert_exporter": "python",
   "pygments_lexer": "ipython2",
   "version": "2.7.12"
  }
 },
 "nbformat": 4,
 "nbformat_minor": 0
}
