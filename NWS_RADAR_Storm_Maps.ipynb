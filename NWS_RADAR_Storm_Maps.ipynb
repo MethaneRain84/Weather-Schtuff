{
 "cells": [
  {
   "cell_type": "code",
   "execution_count": 1,
   "metadata": {
    "collapsed": false
   },
   "outputs": [
    {
     "name": "stderr",
     "output_type": "stream",
     "text": [
      "/Users/ChowdaHead/anaconda/lib/python2.7/site-packages/matplotlib/__init__.py:1069: UserWarning: Bad val \"TkAgg or echo backend : Agg\" on line #1\n",
      "\t\"backend : TkAgg or echo backend : Agg\n",
      "\"\n",
      "\tin file \"/Users/ChowdaHead/.matplotlib/matplotlibrc\"\n",
      "\tKey backend: Unrecognized backend string \"tkagg or echo backend : agg\": valid strings are [u'pgf', u'cairo', u'MacOSX', u'CocoaAgg', u'gdk', u'ps', u'GTKAgg', u'nbAgg', u'GTK', u'Qt5Agg', u'template', u'emf', u'GTK3Cairo', u'GTK3Agg', u'WX', u'Qt4Agg', u'TkAgg', u'agg', u'svg', u'GTKCairo', u'WXAgg', u'WebAgg', u'pdf']\n",
      "  (val, error_details, msg))\n"
     ]
    }
   ],
   "source": [
    "import os\n",
    "from matplotlib.pyplot import imshow\n",
    "import matplotlib.image as mpimg\n",
    "import time,urllib,urllib2,cStringIO,logging,datetime,webbrowser,\\\n",
    "IPython.display,shutil\n",
    "import numpy as np\n",
    "from mpl_toolkits.basemap import Basemap, cm\n",
    "from scipy.io import netcdf\n",
    "import matplotlib.pyplot as plt\n",
    "import datetime\n",
    "from bs4 import BeautifulSoup\n",
    "from IPython.core.display import Image\n",
    "from PIL import Image as PILImage\n",
    "import sys\n",
    "from matplotlib.pyplot import *"
   ]
  },
  {
   "cell_type": "code",
   "execution_count": 2,
   "metadata": {
    "collapsed": false
   },
   "outputs": [
    {
     "data": {
      "text/plain": [
       "20"
      ]
     },
     "execution_count": 2,
     "metadata": {},
     "output_type": "execute_result"
    }
   ],
   "source": [
    "from datetime import datetime\n",
    "datetime.utcnow().hour\n",
    "#now = datetime.now()"
   ]
  },
  {
   "cell_type": "code",
   "execution_count": 3,
   "metadata": {
    "collapsed": false
   },
   "outputs": [],
   "source": [
    "RegionNames = [\"Pacific Northwest\",\"Northern Rockies\",\"Upper Miss. Valley\",\"Central Great Lakes\",\\\n",
    "    \"Northeast\",\"Southeast\",\"Southern Miss. Valley\",\"Southern Plains\",\"Southern Rockies\",\\\n",
    "    \"Pacific Southwest\",\"Hawaii\",\"Alaska\",\"Cont. US\"]\n",
    "\n",
    "RegionShit = np.zeros(len(RegionNames))\n",
    "RegionPageName = []\n",
    "ExtNames = [\"pacnorthwest\",\"northrockies\",\"uppermissvly\",\"centgrtlakes\",\"northeast\",\"southeast\",\\\n",
    "    \"southmissvly\",\"southplains\",\"southrockies\",\"pacsouthwest\",\"hawaii\",\"alaska\",\"latest\"]\n",
    "\n",
    "for j in range(len(RegionNames)):\n",
    "    RegionPageName.append(\"http://radar.weather.gov/ridge/Conus/RadarImg/\"+ExtNames[j]+\".gif\")\n",
    "    #RegionShit[j] = (RegionNames[j],RegionPageName[j])"
   ]
  },
  {
   "cell_type": "code",
   "execution_count": 4,
   "metadata": {
    "collapsed": true
   },
   "outputs": [],
   "source": [
    "def NWS_Radar_Pages(page,Extname,Region):\n",
    "    now = datetime.now()\n",
    "    \n",
    "    print now\n",
    "    Year = now.year\n",
    "    Month = now.month\n",
    "    Day = now.day\n",
    "    # utcnow will give us 24 hr clock    \n",
    "    Hour = datetime.utcnow().hour\n",
    "    Minute = datetime.utcnow().minute\n",
    "    # We need the month and day number to have a 0 in front for the web address\n",
    "    # This will just concoctinate?? add a zero if its less than 10 \n",
    "    if Month < 10:\n",
    "        Month = \"0\"+str(Month)\n",
    "    if Day < 10:\n",
    "        Day = \"0\"+str(Day)\n",
    "    if Hour < 10:\n",
    "        Hour = \"0\"+str(Hour)\n",
    "    if Minute < 10:\n",
    "        Minute = \"0\"+str(Minute)\n",
    "\n",
    "    try:\n",
    "        #picture_page = page\n",
    "         \n",
    "        \n",
    "        print page\n",
    "\n",
    "# Open a browser to the page\n",
    "    #webbrowser.open(picture_page) \n",
    "\n",
    "# open the web page picture and read it into a variable\n",
    "        opener1 = urllib2.build_opener()\n",
    "        page1 = opener1.open(page)\n",
    "        my_picture = page1.read()\n",
    "        \n",
    "    \n",
    "# open file for binary write and save picture\n",
    "# picture_page[-4:] extracts extension eg. .gif\n",
    "# (most image file extensions have three letters, otherwise modify)\n",
    "        Filename = str(Year)+\"_\"+str(Month)+\"_\"+str(Day)+\\\n",
    "    \"_\"+str(Hour)+\"_\"+str(Minute)+\"Z\"+\"_\"+str(Extname)+\".png\" \n",
    "        \n",
    "        Name = '/Users/ChowdaHead/Desktop/Weather_Blog/StiggityStorm/NWS_Radar/'+Region+\"/\"\n",
    "        if not os.path.isdir(Name):\n",
    "            os.makedirs(Name)\n",
    "        fout = open(Name+Filename, \"wb\")\n",
    "        fout.write(my_picture)\n",
    "        fout.close()\n",
    "    \n",
    "        \n",
    "# test to see if it saved correctly\n",
    "        #webbrowser.open(Filename)                   \n",
    "    except urllib2.HTTPError, err:\n",
    "        if err.code == 404:\n",
    "            logging.exception(\"No Data from website\")\n",
    "            pass\n",
    "        else:\n",
    "            raise\n",
    "\n",
    "\n",
    "    file = cStringIO.StringIO(urllib.urlopen(page).read())\n",
    "    img = PILImage.open(file)\n",
    "    fig, ax = subplots(figsize=(15, 8))\n",
    "    ax.set_title(str(Region)+\" Radar: \"+str(Year)+\" \"+\\\n",
    "                 str(Month)+\" \"+str(Day)+\" \"+str(Hour)+str(Minute)+\"Z\")\n",
    "    ax.imshow(img, interpolation='nearest')\n",
    "    plt.axis('off')\n",
    "    tight_layout()\n",
    "    #plt.show()\n",
    "    plt.close()\n",
    "    \n",
    "    return Filename"
   ]
  },
  {
   "cell_type": "code",
   "execution_count": 5,
   "metadata": {
    "collapsed": false
   },
   "outputs": [
    {
     "name": "stdout",
     "output_type": "stream",
     "text": [
      "Pacific Northwest\n",
      "Northern Rockies\n",
      "Upper Miss. Valley\n",
      "Central Great Lakes\n",
      "Northeast\n",
      "Southeast\n",
      "Southern Miss. Valley\n",
      "Southern Plains\n",
      "Southern Rockies\n",
      "Pacific Southwest\n",
      "Hawaii\n",
      "Alaska\n",
      "Cont. US\n",
      "Which Region? Southeast\n",
      "5\n",
      "Start Looping? (y/n) y\n",
      "y\n",
      "How long? (hours) 6\n",
      "2017-04-05 14:31:03.268597\n",
      "http://radar.weather.gov/ridge/Conus/RadarImg/southeast.gif\n",
      "2017-04-05 14:41:07.158663\n",
      "http://radar.weather.gov/ridge/Conus/RadarImg/southeast.gif\n",
      "2017-04-05 14:51:08.961240\n",
      "http://radar.weather.gov/ridge/Conus/RadarImg/southeast.gif\n",
      "2017-04-05 15:01:11.150656\n",
      "http://radar.weather.gov/ridge/Conus/RadarImg/southeast.gif\n",
      "2017-04-05 15:11:12.280087\n",
      "http://radar.weather.gov/ridge/Conus/RadarImg/southeast.gif\n",
      "2017-04-05 15:21:13.513912\n",
      "http://radar.weather.gov/ridge/Conus/RadarImg/southeast.gif\n",
      "2017-04-05 15:31:14.701092\n",
      "http://radar.weather.gov/ridge/Conus/RadarImg/southeast.gif\n",
      "2017-04-05 15:41:15.848485\n",
      "http://radar.weather.gov/ridge/Conus/RadarImg/southeast.gif\n",
      "2017-04-05 15:51:17.044532\n",
      "http://radar.weather.gov/ridge/Conus/RadarImg/southeast.gif\n",
      "2017-04-05 16:01:18.128312\n",
      "http://radar.weather.gov/ridge/Conus/RadarImg/southeast.gif\n",
      "2017-04-05 16:11:19.139494\n",
      "http://radar.weather.gov/ridge/Conus/RadarImg/southeast.gif\n",
      "2017-04-05 16:21:20.197760\n",
      "http://radar.weather.gov/ridge/Conus/RadarImg/southeast.gif\n",
      "2017-04-05 16:31:21.583609\n",
      "http://radar.weather.gov/ridge/Conus/RadarImg/southeast.gif\n",
      "2017-04-05 16:41:22.986459\n",
      "http://radar.weather.gov/ridge/Conus/RadarImg/southeast.gif\n",
      "2017-04-05 16:51:25.170503\n",
      "http://radar.weather.gov/ridge/Conus/RadarImg/southeast.gif\n",
      "2017-04-05 17:01:26.586809\n",
      "http://radar.weather.gov/ridge/Conus/RadarImg/southeast.gif\n",
      "2017-04-05 17:11:27.975138\n",
      "http://radar.weather.gov/ridge/Conus/RadarImg/southeast.gif\n",
      "2017-04-05 17:21:29.393713\n",
      "http://radar.weather.gov/ridge/Conus/RadarImg/southeast.gif\n",
      "All done, suckafish klownshoez.\n"
     ]
    }
   ],
   "source": [
    "for j in RegionNames:\n",
    "    print j\n",
    "    \n",
    "chooses = raw_input(\"Which Region? \")\n",
    "if chooses in RegionNames:\n",
    "    i = RegionNames.index(chooses)\n",
    "    print i\n",
    "loopz = raw_input(\"Start Looping? (y/n) \") \n",
    "print loopz\n",
    "if loopz == \"n\":\n",
    "    NWS_Radar_Pages(RegionPageName[i],ExtNames[i],chooses)\n",
    "\n",
    "if loopz == \"y\":\n",
    " \n",
    "    Time = input(\"How long? (hours) \")\n",
    "    for j in range(Time*3):\n",
    "        NWS_Radar_Pages(RegionPageName[i],ExtNames[i],chooses)\n",
    "        time.sleep(10*60)\n",
    "\n",
    "print \"All done, suckafish klownshoez.\"   "
   ]
  },
  {
   "cell_type": "code",
   "execution_count": null,
   "metadata": {
    "collapsed": true
   },
   "outputs": [],
   "source": []
  }
 ],
 "metadata": {
  "kernelspec": {
   "display_name": "Python 2",
   "language": "python",
   "name": "python2"
  },
  "language_info": {
   "codemirror_mode": {
    "name": "ipython",
    "version": 2
   },
   "file_extension": ".py",
   "mimetype": "text/x-python",
   "name": "python",
   "nbconvert_exporter": "python",
   "pygments_lexer": "ipython2",
   "version": "2.7.12"
  }
 },
 "nbformat": 4,
 "nbformat_minor": 0
}
