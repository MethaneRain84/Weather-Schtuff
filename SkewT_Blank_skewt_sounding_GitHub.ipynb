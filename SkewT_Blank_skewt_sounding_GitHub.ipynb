{
 "cells": [
  {
   "cell_type": "code",
   "execution_count": 2,
   "metadata": {
    "collapsed": false
   },
   "outputs": [
    {
     "name": "stderr",
     "output_type": "stream",
     "text": [
      "/Users/ChowdaHead/anaconda/lib/python2.7/site-packages/matplotlib/__init__.py:1069: UserWarning: Bad val \"TkAgg or echo backend : Agg\" on line #1\n",
      "\t\"backend : TkAgg or echo backend : Agg\n",
      "\"\n",
      "\tin file \"/Users/ChowdaHead/.matplotlib/matplotlibrc\"\n",
      "\tKey backend: Unrecognized backend string \"tkagg or echo backend : agg\": valid strings are [u'pgf', u'cairo', u'MacOSX', u'CocoaAgg', u'gdk', u'ps', u'GTKAgg', u'nbAgg', u'GTK', u'Qt5Agg', u'template', u'emf', u'GTK3Cairo', u'GTK3Agg', u'WX', u'Qt4Agg', u'TkAgg', u'agg', u'svg', u'GTKCairo', u'WXAgg', u'WebAgg', u'pdf']\n",
      "  (val, error_details, msg))\n"
     ]
    },
    {
     "name": "stdout",
     "output_type": "stream",
     "text": [
      "Using matplotlib backend: agg\n",
      "Populating the interactive namespace from numpy and matplotlib\n"
     ]
    }
   ],
   "source": [
    "%pylab"
   ]
  },
  {
   "cell_type": "code",
   "execution_count": 4,
   "metadata": {
    "collapsed": false
   },
   "outputs": [],
   "source": [
    "import os\n",
    "os.chdir('/Users/ChowdaHead/SkewT-1.1.0/')\n",
    "#cd SkewT-1.1.0/\n",
    "from skewt import SkewT"
   ]
  },
  {
   "cell_type": "raw",
   "metadata": {},
   "source": [
    "mydata=dict(zip(('hght','pres','temp','dwpt'),(5000,200,40,30)))\n",
    "S=SkewT.Sounding(soundingdata=mydata)\n",
    "S.plot_skewt()"
   ]
  },
  {
   "cell_type": "code",
   "execution_count": 15,
   "metadata": {
    "collapsed": false
   },
   "outputs": [
    {
     "name": "stdout",
     "output_type": "stream",
     "text": [
      "Where would you like to save the blank skew t plot? /Users/ChowdaHead/Desktop/\n"
     ]
    }
   ],
   "source": [
    "Sounding_filename=\"/Users/ChowdaHead/Desktop/Blank_SkewT.txt\"\n",
    "save_location=raw_input(\"Where would you like to save the blank skew t plot? \")\n",
    "\n",
    "\n",
    "#S=SkewT.Sounding(Sounding_filename)\n",
    "#S.plot_skewt()\n",
    "#plt.show()"
   ]
  },
  {
   "cell_type": "code",
   "execution_count": 16,
   "metadata": {
    "collapsed": false
   },
   "outputs": [
    {
     "name": "stdout",
     "output_type": "stream",
     "text": [
      "\n",
      "---- Lifted Parcel Quantities ----\n",
      "Parcel: SB\n",
      "Ps  :  80.5hPa\n",
      "TCs :  -0.0C\n",
      "TDs :  -0.0C\n",
      "-------------\n",
      "Plcl:  80.5hPa\n",
      "Tlcl:  -0.0C\n",
      "Plfc:   nanhPa\n",
      "P_el:  80.5hPa\n",
      "CAPE:   0.0J\n",
      "CIN:    0.0J\n",
      "\n",
      "---- Lifted Parcel Quantities ----\n",
      "Parcel: SB\n",
      "Ps  :  80.5hPa\n",
      "TCs :  -0.0C\n",
      "TDs :  -0.0C\n",
      "-------------\n",
      "Plcl:  80.5hPa\n",
      "Tlcl:  -0.0C\n",
      "Plfc:   nanhPa\n",
      "P_el:  80.5hPa\n",
      "CAPE:   0.0J\n",
      "CIN:    0.0J\n"
     ]
    }
   ],
   "source": [
    "\n",
    "# 5)\n",
    "S=SkewT.Sounding(Sounding_filename)\n",
    "S.plot_skewt()\n",
    "plt.show()\n",
    "plt.savefig(save_location+\"/\"+\"Blank_SkewT.png\")\n",
    "plt.close()\n",
    "#S = SkewT.Sounding(Sounding_filename)\n",
    "S.plot_skewt(title=\"Sample SkewT\") "
   ]
  },
  {
   "cell_type": "raw",
   "metadata": {
    "collapsed": true
   },
   "source": [
    "72469 DNR Denver Observations at 12Z 11 Jan 2017"
   ]
  },
  {
   "cell_type": "code",
   "execution_count": null,
   "metadata": {
    "collapsed": true
   },
   "outputs": [],
   "source": []
  },
  {
   "cell_type": "code",
   "execution_count": null,
   "metadata": {
    "collapsed": true
   },
   "outputs": [],
   "source": []
  },
  {
   "cell_type": "code",
   "execution_count": null,
   "metadata": {
    "collapsed": true
   },
   "outputs": [],
   "source": []
  },
  {
   "cell_type": "code",
   "execution_count": null,
   "metadata": {
    "collapsed": true
   },
   "outputs": [],
   "source": []
  }
 ],
 "metadata": {
  "kernelspec": {
   "display_name": "Python 2",
   "language": "python",
   "name": "python2"
  },
  "language_info": {
   "codemirror_mode": {
    "name": "ipython",
    "version": 2
   },
   "file_extension": ".py",
   "mimetype": "text/x-python",
   "name": "python",
   "nbconvert_exporter": "python",
   "pygments_lexer": "ipython2",
   "version": "2.7.12"
  }
 },
 "nbformat": 4,
 "nbformat_minor": 0
}
