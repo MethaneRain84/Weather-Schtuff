{
 "cells": [
  {
   "cell_type": "markdown",
   "metadata": {},
   "source": [
    "# National Weather Service RADAR Maps"
   ]
  },
  {
   "cell_type": "markdown",
   "metadata": {},
   "source": [
    "### Justin Richling  4/18/2017"
   ]
  },
  {
   "cell_type": "markdown",
   "metadata": {},
   "source": [
    "#### https://radar.weather.gov/ridge/Conus/index.php"
   ]
  },
  {
   "cell_type": "code",
   "execution_count": null,
   "metadata": {
    "collapsed": true
   },
   "outputs": [],
   "source": [
    "import os\n",
    "from matplotlib.pyplot import imshow\n",
    "import matplotlib.image as mpimg\n",
    "import time,urllib,urllib2,cStringIO,logging,datetime,webbrowser,\\\n",
    "IPython.display,shutil\n",
    "import numpy as np\n",
    "from mpl_toolkits.basemap import Basemap, cm\n",
    "from scipy.io import netcdf\n",
    "import matplotlib.pyplot as plt\n",
    "import datetime\n",
    "from bs4 import BeautifulSoup\n",
    "from IPython.core.display import Image\n",
    "from PIL import Image as PILImage\n",
    "import sys\n",
    "from matplotlib.pyplot import *"
   ]
  },
  {
   "cell_type": "code",
   "execution_count": null,
   "metadata": {
    "collapsed": false
   },
   "outputs": [],
   "source": [
    "from datetime import datetime\n",
    "print \"Current Hour: \"+str(datetime.utcnow().hour)+\"Z UTC\""
   ]
  },
  {
   "cell_type": "code",
   "execution_count": 3,
   "metadata": {
    "collapsed": false
   },
   "outputs": [],
   "source": [
    "RegionNames = [\"Pacific Northwest\",\"Northern Rockies\",\"Upper Miss. Valley\",\"Central Great Lakes\",\\\n",
    "    \"Northeast\",\"Southeast\",\"Southern Miss. Valley\",\"Southern Plains\",\"Southern Rockies\",\\\n",
    "    \"Pacific Southwest\",\"Hawaii\",\"Alaska\",\"Cont. US\"]\n",
    "\n",
    "# ExtNames are used by NWS's webpage \n",
    "ExtNames = [\"pacnorthwest\",\"northrockies\",\"uppermissvly\",\"centgrtlakes\",\"northeast\",\"southeast\",\\\n",
    "    \"southmissvly\",\"southplains\",\"southrockies\",\"pacsouthwest\",\"hawaii\",\"alaska\",\"latest\"]\n",
    "\n",
    "# This list will be populated by all the full webpage addresses\n",
    "RegionPageName = []\n",
    "for j in range(len(RegionNames)):\n",
    "    RegionPageName.append(\"http://radar.weather.gov/ridge/Conus/RadarImg/\"+ExtNames[j]+\".gif\")"
   ]
  },
  {
   "cell_type": "code",
   "execution_count": 15,
   "metadata": {
    "collapsed": false
   },
   "outputs": [
    {
     "data": {
      "text/plain": [
       "['http://radar.weather.gov/ridge/Conus/RadarImg/pacnorthwest.gif',\n",
       " 'http://radar.weather.gov/ridge/Conus/RadarImg/northrockies.gif',\n",
       " 'http://radar.weather.gov/ridge/Conus/RadarImg/uppermissvly.gif',\n",
       " 'http://radar.weather.gov/ridge/Conus/RadarImg/centgrtlakes.gif',\n",
       " 'http://radar.weather.gov/ridge/Conus/RadarImg/northeast.gif',\n",
       " 'http://radar.weather.gov/ridge/Conus/RadarImg/southeast.gif',\n",
       " 'http://radar.weather.gov/ridge/Conus/RadarImg/southmissvly.gif',\n",
       " 'http://radar.weather.gov/ridge/Conus/RadarImg/southplains.gif',\n",
       " 'http://radar.weather.gov/ridge/Conus/RadarImg/southrockies.gif',\n",
       " 'http://radar.weather.gov/ridge/Conus/RadarImg/pacsouthwest.gif',\n",
       " 'http://radar.weather.gov/ridge/Conus/RadarImg/hawaii.gif',\n",
       " 'http://radar.weather.gov/ridge/Conus/RadarImg/alaska.gif',\n",
       " 'http://radar.weather.gov/ridge/Conus/RadarImg/latest.gif']"
      ]
     },
     "execution_count": 15,
     "metadata": {},
     "output_type": "execute_result"
    }
   ],
   "source": [
    "RegionPageName"
   ]
  },
  {
   "cell_type": "code",
   "execution_count": 26,
   "metadata": {
    "collapsed": true
   },
   "outputs": [],
   "source": [
    "def NWS_Radar_Pages(page,Extname,Save_Folder,Region):\n",
    "    now = datetime.now()\n",
    "    print now\n",
    "    Year = now.year\n",
    "    Month = now.month\n",
    "    Day = now.day\n",
    "    # utcnow will give us 24 hr clock    \n",
    "    Hour = datetime.utcnow().hour\n",
    "    Minute = datetime.utcnow().minute\n",
    "    # We need the month and day number to have a 0 in front for the web address\n",
    "    # This will just concoctinate?? add a zero if its less than 10 \n",
    "    if Month < 10:\n",
    "        Month = \"0\"+str(Month)\n",
    "    if Day < 10:\n",
    "        Day = \"0\"+str(Day)\n",
    "    if Hour < 10:\n",
    "        Hour = \"0\"+str(Hour)\n",
    "    if Minute < 10:\n",
    "        Minute = \"0\"+str(Minute)\n",
    "\n",
    "    try:\n",
    "        print page\n",
    "\n",
    "# Open a browser to the page\n",
    "    #webbrowser.open(picture_page) \n",
    "\n",
    "# open the web page picture and read it into a variable\n",
    "        opener1 = urllib2.build_opener()\n",
    "        page1 = opener1.open(page)\n",
    "        my_picture = page1.read()\n",
    "        \n",
    "# open file for binary write and save picture\n",
    "# picture_page[-4:] extracts extension eg. .gif\n",
    "# (most image file extensions have three letters, otherwise modify)\n",
    "        Filename = str(Year)+\"_\"+str(Month)+\"_\"+str(Day)+\\\n",
    "    \"_\"+str(Hour)+\"_\"+str(Minute)+\"Z\"+\"_\"+str(Extname)+\".png\" \n",
    "\n",
    "        fout = open(Filename, \"wb\")\n",
    "        fout.write(my_picture)\n",
    "        fout.close()\n",
    "    \n",
    "# test to see if it saved correctly\n",
    "        #webbrowser.open(Filename)                   \n",
    "    except urllib2.HTTPError, err:\n",
    "        if err.code == 404:\n",
    "            logging.exception(\"No Data from website\")\n",
    "            pass\n",
    "        else:\n",
    "            raise\n",
    "\n",
    "    file = cStringIO.StringIO(urllib.urlopen(page).read())\n",
    "    img = PILImage.open(file)\n",
    "    fig, ax = subplots(figsize=(15, 8))\n",
    "    ax.set_title(str(Region)+\" Radar: \"+str(Year)+\" \"+\\\n",
    "                 str(Month)+\" \"+str(Day)+\" \"+str(Hour)+str(Minute)+\"Z\")\n",
    "    ax.imshow(img, interpolation='nearest')\n",
    "    plt.axis('off')\n",
    "    tight_layout()\n",
    "    #plt.show()\n",
    "    plt.close()\n",
    "    \n",
    "    return Filename"
   ]
  },
  {
   "cell_type": "code",
   "execution_count": null,
   "metadata": {
    "collapsed": true
   },
   "outputs": [],
   "source": [
    "Inputz = raw_input(\"How many regions would you like to track? (A)ll to run all regions \") \n",
    "MyInput = []\n",
    "if Inputz == \"A\":\n",
    "    MyInput = RegionNames\n",
    "    #MyInput = ListRegion  \n",
    "    print MyInput\n",
    "else:\n",
    "    Inputz = int(Inputz)\n",
    "    for i in range(Inputz):\n",
    "    # Give a list of region names to be used as input by user\n",
    "        for h in range(len(RegionNames)):\n",
    "            #print \"(for reference on NPC's website)\"+\"\\n\\n\"+\"Map sector number: \"+str(butt[h])\n",
    "            print str(RegionNames[h])\n",
    "        print\n",
    "        MyInput.append(raw_input(\"Which Region: \"))\n",
    "        print \"\\n\"+str(MyInput)+\"\\n\"\n",
    "    \n",
    "Time = input(\"How many hours for the loop? \")\n",
    "\n",
    "now = datetime.now()\n",
    "Month = now.month\n",
    "Year = now.year\n",
    "Day = now.day\n",
    "    # utcnow will give us 24 hr clock    \n",
    "Hour = datetime.utcnow().hour\n",
    "Minute = datetime.utcnow().minute\n",
    "    # We need the month and day number to have a 0 in front for the web address\n",
    "    # This will just concoctinate?? add a zero if its less than 10     \n",
    "if Month < 10:\n",
    "    Month = \"0\"+str(Month)\n",
    "if Day < 10:\n",
    "    Day = \"0\"+str(Day)\n",
    "    \n",
    "Name = raw_input(\"Where would you like to save the RADAR folders? \")\n",
    "\n",
    "# The 3 in the range argument needs to be there to reflect the fact that how ever many\n",
    "# hours the user wants, we need to multiply it by an amount that when multiplied to \n",
    "# the frequency (refresh rate: 20 min) to get the main for-loop to execute properly since\n",
    "# it doesn't know that we are taking about time; base 60, not 10\n",
    "\n",
    "# If Time = 2 hours, that's 120 minutes. At refresh rate of 20 mins (in time argument below),\n",
    "# we need the range to essentiall be 6. So Time (2) x 3 = 6. \n",
    "# Check. \n",
    "for g in range(3*Time):\n",
    "    #print g\n",
    "    for i in range(len(MyInput)):    \n",
    "    \n",
    "# Check to see if Input (user's input) is in our list of NOAA regions\n",
    "        if MyInput[i] in RegionNames:\n",
    "    # If Input is in our list, then set j equal to that numbered index\n",
    "    # j will be an int!!\n",
    "            j = RegionNames.index(MyInput[i])\n",
    "            print \"\\n\"+\"Index Number: \"+str(j)\n",
    "    # We will use j in a moment, it is the list entry number of input region\n",
    "    \n",
    "    # We want to store this particular storm in it's designated folder    \n",
    "        Name_new = str(Name)+str(Year)+\"_\"+str(Month)+\"_\"+str(Day)+\"_\"+str(MyInput[i])\n",
    "        print Name_new\n",
    "        \n",
    "# Checking to see if the folder exists already (os.path.isdir) and if not, create one (os.makedirs)\n",
    "# Then redirect (os.chdir) to that folder so later the created image can be automatically saved to it\n",
    "        if not os.path.isdir(Name_new):\n",
    "            os.makedirs(Name_new)\n",
    "        os.chdir(Name_new)\n",
    "    \n",
    "        NWS_Radar_Pages(RegionPageName[j],MyInput[i],Name,Name_new)\n",
    "    # come back and capture an updated (hopefully) RADAR map every 20 minutes\n",
    "    time.sleep(20*60)\n",
    "\n",
    "# The time.sleep() at the end of the loop will allow for the time desired between plots\n",
    "print \"All done.\""
   ]
  }
 ],
 "metadata": {
  "kernelspec": {
   "display_name": "Python 2",
   "language": "python",
   "name": "python2"
  },
  "language_info": {
   "codemirror_mode": {
    "name": "ipython",
    "version": 2
   },
   "file_extension": ".py",
   "mimetype": "text/x-python",
   "name": "python",
   "nbconvert_exporter": "python",
   "pygments_lexer": "ipython2",
   "version": "2.7.12"
  }
 },
 "nbformat": 4,
 "nbformat_minor": 0
}
