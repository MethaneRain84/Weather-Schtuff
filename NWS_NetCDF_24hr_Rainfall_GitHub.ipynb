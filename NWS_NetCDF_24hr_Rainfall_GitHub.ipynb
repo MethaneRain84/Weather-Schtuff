{
 "cells": [
  {
   "cell_type": "markdown",
   "metadata": {},
   "source": [
    "# National Weather Service 24hr Accumulated Rainfall"
   ]
  },
  {
   "cell_type": "markdown",
   "metadata": {},
   "source": [
    "## Justin Richling  4/17/2017"
   ]
  },
  {
   "cell_type": "markdown",
   "metadata": {},
   "source": [
    "### http://water.weather.gov/precip/download.php"
   ]
  },
  {
   "cell_type": "code",
   "execution_count": null,
   "metadata": {
    "collapsed": true
   },
   "outputs": [],
   "source": [
    "%pylab\n",
    "from matplotlib.pyplot import imshow\n",
    "import matplotlib.image as mpimg\n",
    "import time,urllib,urllib2,cStringIO,logging,datetime,webbrowser,\\\n",
    "IPython.display,shutil,sys, os\n",
    "import numpy as np\n",
    "from mpl_toolkits.basemap import Basemap, cm\n",
    "from scipy.io import netcdf\n",
    "import matplotlib.pyplot as plt\n",
    "from bs4 import BeautifulSoup\n",
    "from IPython.core.display import Image\n",
    "from PIL import Image as PILImage"
   ]
  },
  {
   "cell_type": "code",
   "execution_count": 2,
   "metadata": {
    "collapsed": true
   },
   "outputs": [],
   "source": [
    "import tarfile\n",
    " \n",
    "def untar(tarFile):\n",
    "    if (tarFile.endswith(\"tar.gz\")):\n",
    "        tar = tarfile.open(tarFile)\n",
    "        tar.extractall()\n",
    "        tar.close()\n",
    "    else:\n",
    "        print \"Not a tar.gz file: '%s '\" % sys.argv[0]"
   ]
  },
  {
   "cell_type": "raw",
   "metadata": {
    "collapsed": true
   },
   "source": [
    "netcdf.netcdf_file?"
   ]
  },
  {
   "cell_type": "code",
   "execution_count": 19,
   "metadata": {
    "collapsed": true
   },
   "outputs": [],
   "source": [
    "def Rain24hrTotal(year,month,day,Datepath,Downloadpath,region):\n",
    "    if month < 10:\n",
    "        month = \"0\"+str(month)\n",
    "    if day < 10:\n",
    "        day = \"0\"+str(day)\n",
    "        \n",
    "    # The NetCDF file come named : nws_precip_+str(Year)+\"_\"+str(Month)+\"_\"+str(Day)+_nc.tar\n",
    "    untar(Downloadpath+\"nws_precip_\"+Datepath+\"_nc.tar.gz\")\n",
    "    # The untaring will produce (usually) .nc files for: \n",
    "    # Cont. US (conus)\n",
    "    # Alaska (ak)\n",
    "    # Puerto Rico (pr)\n",
    "    \n",
    "    # plot rainfall from NWS using special precipitation\n",
    "# colormap used by the NWS, and included in basemap.\n",
    "  \n",
    "    # netcdf.netcdf_file() will save the archived .nc file in desired location\n",
    "    nc = netcdf.netcdf_file(Downloadpath+\"nws_precip_\"+region+\"_\"+Datepath+\".nc\")\n",
    "\n",
    "    PrecipFilename = str(Year)+\"_\"+str(Month)+\"_\"+str(Day)+\"_nws_precip.png\"\n",
    "# data from http://water.weather.gov/precip/\n",
    "    prcpvar = nc.variables['amountofprecip']\n",
    "    data = 0.01*prcpvar[:]\n",
    "    latcorners = nc.variables['lat'][:]\n",
    "    loncorners = -nc.variables['lon'][:]\n",
    "    lon_0 = -nc.variables['true_lon'].getValue()\n",
    "    lat_0 = nc.variables['true_lat'].getValue()\n",
    "    nc.close()\n",
    "# create figure and axes instances\n",
    "    fig = plt.figure(figsize=(8,8))\n",
    "    ax = fig.add_axes([0.1,0.1,0.8,0.8])\n",
    "# create polar stereographic Basemap instance.\n",
    "    m = Basemap(projection='stere',lon_0=lon_0,lat_0=90.,lat_ts=lat_0,\\\n",
    "            llcrnrlat=latcorners[0],urcrnrlat=latcorners[2],\\\n",
    "            llcrnrlon=loncorners[0],urcrnrlon=loncorners[2],\\\n",
    "            rsphere=6371200.,resolution='l',area_thresh=10000)\n",
    "# draw coastlines, state and country boundaries, edge of map.\n",
    "    m.drawcoastlines()\n",
    "    m.drawstates()\n",
    "    m.drawcountries()\n",
    "# draw parallels.\n",
    "    parallels = np.arange(0.,90,10.)\n",
    "    m.drawparallels(parallels,labels=[1,0,0,0],fontsize=10)\n",
    "# draw meridians\n",
    "    meridians = np.arange(180.,360.,10.)\n",
    "    m.drawmeridians(meridians,labels=[0,0,0,1],fontsize=10)\n",
    "    ny = data.shape[0]; nx = data.shape[1]\n",
    "    # get lat/lons of ny by nx evenly space grid.\n",
    "    lons, lats = m.makegrid(nx, ny) \n",
    "    x, y = m(lons, lats) # compute map proj coordinates.\n",
    "# draw filled contours.\n",
    "    clevs = [0,1,2.5,5,7.5,10,15,20,30,40,50,70,100,150,\\\n",
    "             200,250,300,400,500,600,750]\n",
    "    cs = m.contourf(x,y,data,clevs,cmap=cm.s3pcpn)\n",
    "# add colorbar.\n",
    "    cbar = m.colorbar(cs,location='bottom',pad=\"5%\")\n",
    "    cbar.set_label('mm')\n",
    "# add title\n",
    "    plt.title(prcpvar.long_name+' for period ending '+\\\n",
    "              prcpvar.dateofdata)\n",
    "    plt.savefig(Downloadpath+PrecipFilename)\n",
    "    #plt.axis('off')\n",
    "    #plt.show()\n",
    "    plt.close()"
   ]
  },
  {
   "cell_type": "code",
   "execution_count": null,
   "metadata": {
    "collapsed": true
   },
   "outputs": [],
   "source": [
    "now = datetime.datetime.now()\n",
    "Time = raw_input(\"(C)urrent time or (a)rchive? \")\n",
    "if Time == \"C\": \n",
    "    Day = now.day\n",
    "    Year = now.year\n",
    "    Month = now.month\n",
    "    \n",
    "if Time == \"a\":\n",
    "    Year = input(\"Year: \")\n",
    "    Month = input(\"Month (numerical 1-12): \")\n",
    "    Day = input(\"Day (numerical 1-28/29/30/31): \")\n",
    "\n",
    "Downloadpath = raw_input(\"Where would you like the file? \\\n",
    "(For now you need to provide the full path file)\")    \n",
    "Datepath = str(Year)+str(Month)+str(Day)\n",
    "\n",
    "if not os.path.isdir(Downloadpath):\n",
    "    os.makedirs(Downloadpath)\n",
    "os.chdir(Downloadpath)\n",
    "\n",
    "webbrowser.open(\"http://water.weather.gov/precip/download.php\")\n",
    "LetsRoll = raw_input(\"Downloaded? (y) \")\n",
    "if LetsRoll == \"y\":\n",
    "    region = raw_input(\"Which region would you like? (conus, ak, pr) \")\n",
    "    Rain24hrTotal(Year,Month,Day,Datepath,Downloadpath,region)\n",
    "    \n",
    "# To automatically put the .tar file in the trash (on Mac OSX)\n",
    "    #shutil.move(Downloadpath+\"nws_precip_\"+\\\n",
    "    #str(Year)+str(Month)+str(Day)+\"_nc.tar.gz\"\\\n",
    "    #, \"/Users/UserName/.Trash/nws_precip_\"+\\\n",
    "    #str(Year)+str(Month)+str(Day)+\"_nc.tar.gz\")"
   ]
  }
 ],
 "metadata": {
  "kernelspec": {
   "display_name": "Python 2",
   "language": "python",
   "name": "python2"
  },
  "language_info": {
   "codemirror_mode": {
    "name": "ipython",
    "version": 2
   },
   "file_extension": ".py",
   "mimetype": "text/x-python",
   "name": "python",
   "nbconvert_exporter": "python",
   "pygments_lexer": "ipython2",
   "version": "2.7.12"
  }
 },
 "nbformat": 4,
 "nbformat_minor": 0
}
