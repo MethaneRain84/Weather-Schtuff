{
 "cells": [
  {
   "cell_type": "code",
   "execution_count": 1,
   "metadata": {
    "collapsed": true
   },
   "outputs": [],
   "source": [
    "import os\n",
    "from matplotlib.pyplot import imshow\n",
    "import matplotlib.image as mpimg\n",
    "import time,urllib,urllib2,cStringIO,logging,datetime,webbrowser,\\\n",
    "IPython.display,shutil\n",
    "import numpy as np\n",
    "from mpl_toolkits.basemap import Basemap, cm\n",
    "from scipy.io import netcdf\n",
    "import matplotlib.pyplot as plt\n",
    "import datetime\n",
    "from bs4 import BeautifulSoup\n",
    "from IPython.core.display import Image\n",
    "from PIL import Image as PILImage\n",
    "import sys\n",
    "from matplotlib.pyplot import *\n",
    "from images2gif import writeGif\n",
    "import fnmatch\n",
    "import glob"
   ]
  },
  {
   "cell_type": "code",
   "execution_count": 2,
   "metadata": {
    "collapsed": false
   },
   "outputs": [
    {
     "data": {
      "text/plain": [
       "14"
      ]
     },
     "execution_count": 2,
     "metadata": {},
     "output_type": "execute_result"
    }
   ],
   "source": [
    "from datetime import datetime\n",
    "datetime.utcnow().hour\n",
    "#now = datetime.now()"
   ]
  },
  {
   "cell_type": "raw",
   "metadata": {},
   "source": [
    "i = 0\n",
    "for name in glob.glob('*rgnlrad.png'):\n",
    "    print name"
   ]
  },
  {
   "cell_type": "code",
   "execution_count": 3,
   "metadata": {
    "collapsed": false
   },
   "outputs": [
    {
     "name": "stdout",
     "output_type": "stream",
     "text": [
      "/Users/ChowdaHead\n"
     ]
    }
   ],
   "source": [
    "cd .."
   ]
  },
  {
   "cell_type": "code",
   "execution_count": 4,
   "metadata": {
    "collapsed": false
   },
   "outputs": [
    {
     "name": "stdout",
     "output_type": "stream",
     "text": [
      "/Users/ChowdaHead/Desktop/Weather_Blog/StiggityStorm/GOES_West_Radar\n"
     ]
    }
   ],
   "source": [
    "cd Desktop/Weather_Blog/StiggityStorm/GOES_West_Radar/"
   ]
  },
  {
   "cell_type": "code",
   "execution_count": 5,
   "metadata": {
    "collapsed": false
   },
   "outputs": [
    {
     "name": "stdout",
     "output_type": "stream",
     "text": [
      "\u001b[34mTropical Pacific\u001b[m\u001b[m/ \u001b[34mWest Coast\u001b[m\u001b[m/\r\n"
     ]
    }
   ],
   "source": [
    "ls"
   ]
  },
  {
   "cell_type": "code",
   "execution_count": 6,
   "metadata": {
    "collapsed": false
   },
   "outputs": [],
   "source": [
    "os.chdir(\"West Coast/\")"
   ]
  },
  {
   "cell_type": "code",
   "execution_count": 7,
   "metadata": {
    "collapsed": false
   },
   "outputs": [
    {
     "name": "stdout",
     "output_type": "stream",
     "text": [
      "2016_10_15_16_53Z_wv.png\n",
      "2016_10_15_17_23Z_wv.png\n",
      "2016_10_15_17_53Z_wv.png\n",
      "2016_10_15_18_23Z_wv.png\n",
      "2016_10_15_18_53Z_wv.png\n",
      "2016_10_15_19_24Z_wv.png\n",
      "2016_10_15_19_54Z_wv.png\n",
      "2016_10_15_20_24Z_wv.png\n",
      "2016_10_15_20_54Z_wv.png\n",
      "2016_10_15_21_25Z_wv.png\n",
      "2016_10_15_21_55Z_wv.png\n",
      "2016_10_15_22_25Z_wv.png\n",
      "2016_10_24_00_40Z_wv.png\n",
      "2016_10_24_01_11Z_wv.png\n",
      "2016_10_24_01_41Z_wv.png\n",
      "2016_10_24_02_11Z_wv.png\n",
      "2016_10_24_02_42Z_wv.png\n",
      "2016_10_24_03_12Z_wv.png\n",
      "2016_10_24_03_42Z_wv.png\n",
      "2016_10_24_04_12Z_wv.png\n",
      "2016_10_24_14_34Z_wv.png\n",
      "2016_10_24_14_35Z_wv.png\n",
      "2016_10_24_15_05Z_wv.png\n",
      "2016_10_24_15_35Z_wv.png\n",
      "2016_10_24_16_06Z_wv.png\n",
      "2016_10_24_16_38Z_wv.png\n",
      "2016_10_24_17_08Z_wv.png\n",
      "2016_10_24_17_38Z_wv.png\n",
      "2016_10_24_18_11Z_wv.png\n",
      "2016_10_24_18_42Z_wv.png\n",
      "2016_10_24_20_10Z_wv.png\n",
      "2016_10_24_20_40Z_wv.png\n",
      "2016_10_24_21_10Z_wv.png\n",
      "2016_10_24_21_40Z_wv.png\n",
      "2016_10_24_22_11Z_wv.png\n",
      "2016_10_24_23_04Z_wv.png\n"
     ]
    }
   ],
   "source": [
    "i = 0\n",
    "for name in glob.glob('*wv.png'):\n",
    "    print name"
   ]
  },
  {
   "cell_type": "code",
   "execution_count": 8,
   "metadata": {
    "collapsed": false
   },
   "outputs": [
    {
     "name": "stdout",
     "output_type": "stream",
     "text": [
      "2016_10_15_16_52Z_ir2.png\n",
      "2016_10_15_17_23Z_ir2.png\n",
      "2016_10_15_17_53Z_ir2.png\n",
      "2016_10_15_18_23Z_ir2.png\n",
      "2016_10_15_18_53Z_ir2.png\n",
      "2016_10_15_19_24Z_ir2.png\n",
      "2016_10_15_19_54Z_ir2.png\n",
      "2016_10_15_20_24Z_ir2.png\n",
      "2016_10_15_20_54Z_ir2.png\n",
      "2016_10_15_21_25Z_ir2.png\n",
      "2016_10_15_21_55Z_ir2.png\n",
      "2016_10_15_22_25Z_ir2.png\n",
      "2016_10_24_00_40Z_ir2.png\n",
      "2016_10_24_01_11Z_ir2.png\n",
      "2016_10_24_01_41Z_ir2.png\n",
      "2016_10_24_02_11Z_ir2.png\n",
      "2016_10_24_02_42Z_ir2.png\n",
      "2016_10_24_03_12Z_ir2.png\n",
      "2016_10_24_03_42Z_ir2.png\n",
      "2016_10_24_04_12Z_ir2.png\n",
      "2016_10_24_14_34Z_ir2.png\n",
      "2016_10_24_14_35Z_ir2.png\n",
      "2016_10_24_15_05Z_ir2.png\n",
      "2016_10_24_15_35Z_ir2.png\n",
      "2016_10_24_16_06Z_ir2.png\n",
      "2016_10_24_16_38Z_ir2.png\n",
      "2016_10_24_17_08Z_ir2.png\n",
      "2016_10_24_17_38Z_ir2.png\n",
      "2016_10_24_18_11Z_ir2.png\n",
      "2016_10_24_18_41Z_ir2.png\n",
      "2016_10_24_20_10Z_ir2.png\n",
      "2016_10_24_20_40Z_ir2.png\n",
      "2016_10_24_21_10Z_ir2.png\n",
      "2016_10_24_21_40Z_ir2.png\n",
      "2016_10_24_22_11Z_ir2.png\n",
      "2016_10_24_23_04Z_ir2.png\n"
     ]
    }
   ],
   "source": [
    "butt2 = []\n",
    "\n",
    "# searching for the files with * \n",
    "for name in glob.glob('*ir2.png'):\n",
    "    print name\n",
    "    butt = PILImage.open(name)\n",
    "    butt2.append(butt.copy())\n",
    "    butt.close()\n",
    "size = (1000,1000)\n",
    "for im in butt2:\n",
    "    im.thumbnail(size, PILImage.ANTIALIAS)\n",
    "writeGif(\"/Users/ChowdaHead/Desktop/Pac_Hurricane_ShortWave.gif\", butt2, duration=0.5, subRectangles=False)"
   ]
  },
  {
   "cell_type": "markdown",
   "metadata": {},
   "source": [
    "## East Coast"
   ]
  },
  {
   "cell_type": "markdown",
   "metadata": {},
   "source": [
    "### http://www.ssd.noaa.gov/imagery/eaus.html"
   ]
  },
  {
   "cell_type": "code",
   "execution_count": 9,
   "metadata": {
    "collapsed": false
   },
   "outputs": [
    {
     "data": {
      "text/plain": [
       "'http://www.ssd.noaa.gov/goes/east/eaus/vis-animated.gif'"
      ]
     },
     "execution_count": 9,
     "metadata": {},
     "output_type": "execute_result"
    }
   ],
   "source": [
    "# Animated water vapor GIF (open in new browser)\n",
    "\"http://www.ssd.noaa.gov/goes/east/eaus/wv-animated.gif\"\n",
    "\n",
    "# Animated shortwave GIF (open in new browser)\n",
    "\"http://www.ssd.noaa.gov/goes/east/eaus/ir2-animated.gif\"\n",
    "\n",
    "# Animated visible GIF (open in new browser)\n",
    "\"http://www.ssd.noaa.gov/goes/east/eaus/vis-animated.gif\""
   ]
  },
  {
   "cell_type": "code",
   "execution_count": 10,
   "metadata": {
    "collapsed": false
   },
   "outputs": [
    {
     "data": {
      "text/plain": [
       "'http://www.ssd.noaa.gov/goes/east/eaus/ir4.jpg'"
      ]
     },
     "execution_count": 10,
     "metadata": {},
     "output_type": "execute_result"
    }
   ],
   "source": [
    "# Visible\n",
    "\"http://www.ssd.noaa.gov/goes/east/eaus/vis-l.jpg\" # w/ Lat and Lon\n",
    "\"http://www.ssd.noaa.gov/goes/east/eaus/vis.jpg\"\n",
    "\n",
    "# Shortwave (IR2)\n",
    "\"http://www.ssd.noaa.gov/goes/east/eaus/ir2-l.jpg\" # w/ Lat and Lon\n",
    "\"http://www.ssd.noaa.gov/goes/east/eaus/ir2.jpg\"\n",
    "\n",
    "# Water Vapor (IR3)\n",
    "\"http://www.ssd.noaa.gov/goes/east/eaus/wv.jpg\"\n",
    "\"http://www.ssd.noaa.gov/goes/east/eaus/wv-l.jpg\" # w/ Lat and Lon\n",
    "    \n",
    "# Infrared Channel 4 Enhancements\n",
    "# Funktop\n",
    "\"http://www.ssd.noaa.gov/goes/east/eaus/ft.jpg\"\n",
    "    \n",
    "# Rainbow\n",
    "\"http://www.ssd.noaa.gov/goes/east/eaus/rb.jpg\"\n",
    "\n",
    "# RGB\n",
    "\"http://www.ssd.noaa.gov/goes/east/eaus/rgb.jpg\"\n",
    "    \n",
    "# JSL?\n",
    "\"http://www.ssd.noaa.gov/goes/east/eaus/jsl.jpg\"\n",
    "    \n",
    "# Dvorak?\n",
    "\"http://www.ssd.noaa.gov/goes/east/eaus/bd.jpg\"\n",
    "    \n",
    "# AVN?\n",
    "\"http://www.ssd.noaa.gov/goes/east/eaus/avn.jpg\"\n",
    "\n",
    "# No Enchancements\n",
    "\"http://www.ssd.noaa.gov/goes/east/eaus/ir4.jpg\""
   ]
  },
  {
   "cell_type": "markdown",
   "metadata": {},
   "source": [
    "## Tropical Atlantic"
   ]
  },
  {
   "cell_type": "markdown",
   "metadata": {},
   "source": [
    "### http://www.ssd.noaa.gov/imagery/tatl.html"
   ]
  },
  {
   "cell_type": "code",
   "execution_count": 11,
   "metadata": {
    "collapsed": false
   },
   "outputs": [
    {
     "data": {
      "text/plain": [
       "'http://www.ssd.noaa.gov/goes/east/tatl/vis-animated.gif'"
      ]
     },
     "execution_count": 11,
     "metadata": {},
     "output_type": "execute_result"
    }
   ],
   "source": [
    "# Animated water vapor GIF (open in new browser)\n",
    "\"http://www.ssd.noaa.gov/goes/east/tatl/wv-animated.gif\"\n",
    "\n",
    "# Animated shortwave GIF (open in new browser)\n",
    "\"http://www.ssd.noaa.gov/goes/east/tatl/ir2-animated.gif\"\n",
    "\n",
    "# Animated visible GIF (open in new browser)\n",
    "\"http://www.ssd.noaa.gov/goes/east/tatl/vis-animated.gif\""
   ]
  },
  {
   "cell_type": "code",
   "execution_count": 12,
   "metadata": {
    "collapsed": false
   },
   "outputs": [
    {
     "data": {
      "text/plain": [
       "'http://www.ssd.noaa.gov/goes/east/tatl/ir4.jpg'"
      ]
     },
     "execution_count": 12,
     "metadata": {},
     "output_type": "execute_result"
    }
   ],
   "source": [
    "# Visible\n",
    "\"http://www.ssd.noaa.gov/goes/east/tatl/vis-l.jpg\" # w/ Lat and Lon\n",
    "\"http://www.ssd.noaa.gov/goes/east/tatl/vis.jpg\"\n",
    "\n",
    "# Shortwave (IR2)\n",
    "\"http://www.ssd.noaa.gov/goes/east/tatl/ir2-l.jpg\" # w/ Lat and Lon\n",
    "\"http://www.ssd.noaa.gov/goes/east/tatl/ir2.jpg\"\n",
    "\n",
    "# Water Vapor (IR3)\n",
    "\"http://www.ssd.noaa.gov/goes/east/tatl/wv.jpg\"\n",
    "\"http://www.ssd.noaa.gov/goes/east/tatl/wv-l.jpg\" # w/ Lat and Lon\n",
    "    \n",
    "# Infrared Channel 4 Enhancements\n",
    "# Funktop\n",
    "\"http://www.ssd.noaa.gov/goes/east/tatl/ft.jpg\"\n",
    "    \n",
    "# Rainbow\n",
    "\"http://www.ssd.noaa.gov/goes/east/tatl/rb.jpg\"\n",
    "\n",
    "# RGB\n",
    "\"http://www.ssd.noaa.gov/goes/east/tatl/rgb.jpg\"\n",
    "    \n",
    "# JSL?\n",
    "\"http://www.ssd.noaa.gov/goes/east/tatl/jsl.jpg\"\n",
    "    \n",
    "# Dvorak?\n",
    "\"http://www.ssd.noaa.gov/goes/east/tatl/bd.jpg\"\n",
    "    \n",
    "# AVN?\n",
    "\"http://www.ssd.noaa.gov/goes/east/tatl/avn.jpg\"\n",
    "\n",
    "# No Enchancements\n",
    "\"http://www.ssd.noaa.gov/goes/east/tatl/ir4.jpg\""
   ]
  },
  {
   "cell_type": "code",
   "execution_count": 13,
   "metadata": {
    "collapsed": false
   },
   "outputs": [],
   "source": [
    "RegionNames = [\"West Coast\",\"Tropical Pacific\"]\n",
    "\n",
    "RegionShit = np.zeros(len(RegionNames))\n",
    "EastPageName = []\n",
    "TropEastPageName = []\n",
    "RegionExt = [\"west/weus\",\"west/nepac\"]\n",
    "ExtNames = [\"vis\",\"ir2\",\"wv\",\"ir4\",\"avn\",\"bd\",\"jsl\",\"rgb\",\"ft\",\"rb\"]\n",
    "\n",
    "for j in range(len(ExtNames)):\n",
    "    EastPageName.append(\"http://www.ssd.noaa.gov/goes/\"+RegionExt[0]+\"/\"+ExtNames[j]+\".jpg\")\n",
    "    #RegionShit[j] = (RegionNames[j],RegionPageName[j])\n",
    "for j in range(len(ExtNames)):\n",
    "    TropEastPageName.append(\"http://www.ssd.noaa.gov/goes/\"+RegionExt[1]+\"/\"+ExtNames[j]+\".jpg\")\n",
    "    #RegionShit[j] = (RegionNames[j],RegionPageName[j])"
   ]
  },
  {
   "cell_type": "code",
   "execution_count": 14,
   "metadata": {
    "collapsed": false
   },
   "outputs": [],
   "source": [
    "EastButt = []\n",
    "TropEastButt = []\n",
    "Dscrt = [\"Visible\",\"Shortwave\",\"Water Vapor\",\"IR4\",\\\n",
    "\"AVN\",\"Dvorak\",\"JSL\",\"RGB\",\"Funktop\",\"Rainbow\"]\n",
    "for i in range(len(EastPageName)):\n",
    "    EastButt.append({EastPageName[i]:Dscrt[i]})\n",
    "    TropEastButt.append({TropEastPageName[i]:Dscrt[i]})"
   ]
  },
  {
   "cell_type": "code",
   "execution_count": 15,
   "metadata": {
    "collapsed": false
   },
   "outputs": [
    {
     "data": {
      "text/plain": [
       "[{'http://www.ssd.noaa.gov/goes/west/weus/vis.jpg': 'Visible'},\n",
       " {'http://www.ssd.noaa.gov/goes/west/weus/ir2.jpg': 'Shortwave'},\n",
       " {'http://www.ssd.noaa.gov/goes/west/weus/wv.jpg': 'Water Vapor'},\n",
       " {'http://www.ssd.noaa.gov/goes/west/weus/ir4.jpg': 'IR4'},\n",
       " {'http://www.ssd.noaa.gov/goes/west/weus/avn.jpg': 'AVN'},\n",
       " {'http://www.ssd.noaa.gov/goes/west/weus/bd.jpg': 'Dvorak'},\n",
       " {'http://www.ssd.noaa.gov/goes/west/weus/jsl.jpg': 'JSL'},\n",
       " {'http://www.ssd.noaa.gov/goes/west/weus/rgb.jpg': 'RGB'},\n",
       " {'http://www.ssd.noaa.gov/goes/west/weus/ft.jpg': 'Funktop'},\n",
       " {'http://www.ssd.noaa.gov/goes/west/weus/rb.jpg': 'Rainbow'}]"
      ]
     },
     "execution_count": 15,
     "metadata": {},
     "output_type": "execute_result"
    }
   ],
   "source": [
    "EastButt"
   ]
  },
  {
   "cell_type": "code",
   "execution_count": null,
   "metadata": {
    "collapsed": true
   },
   "outputs": [],
   "source": [
    "def GOES_Radar_Pages(page,Extname,Region):\n",
    "    now = datetime.now()\n",
    "    \n",
    "    print now\n",
    "    Year = now.year\n",
    "    Month = now.month\n",
    "    Day = now.day\n",
    "    # utcnow will give us 24 hr clock    \n",
    "    Hour = datetime.utcnow().hour\n",
    "    Minute = datetime.utcnow().minute\n",
    "    # We need the month and day number to have a 0 in front for the web address\n",
    "    # This will just concoctinate?? add a zero if its less than 10 \n",
    "    if Month < 10:\n",
    "        Month = \"0\"+str(Month)\n",
    "    if Day < 10:\n",
    "        Day = \"0\"+str(Day)\n",
    "    if Hour < 10:\n",
    "        Hour = \"0\"+str(Hour)\n",
    "    if Minute < 10:\n",
    "        Minute = \"0\"+str(Minute)\n",
    "\n",
    "    try:\n",
    "        #picture_page = page\n",
    "         \n",
    "        \n",
    "        print page\n",
    "\n",
    "# Open a browser to the page\n",
    "    #webbrowser.open(picture_page) \n",
    "\n",
    "# open the web page picture and read it into a variable\n",
    "        opener1 = urllib2.build_opener()\n",
    "        page1 = opener1.open(page)\n",
    "        my_picture = page1.read()\n",
    "        \n",
    "    \n",
    "# open file for binary write and save picture\n",
    "# picture_page[-4:] extracts extension eg. .gif\n",
    "# (most image file extensions have three letters, otherwise modify)\n",
    "        Filename = str(Year)+\"_\"+str(Month)+\"_\"+str(Day)+\\\n",
    "    \"_\"+str(Hour)+\"_\"+str(Minute)+\"Z\"+\"_\"+str(Extname)+\".png\" \n",
    "        \n",
    "        Name = '/Users/ChowdaHead/Desktop/Weather_Blog/StiggityStorm/GOES_West_Radar/'+Region+\"/\"\n",
    "        if not os.path.isdir(Name):\n",
    "            os.makedirs(Name)\n",
    "        fout = open(Name+Filename, \"wb\")\n",
    "        fout.write(my_picture)\n",
    "        fout.close()\n",
    "    \n",
    "        \n",
    "# test to see if it saved correctly\n",
    "        #webbrowser.open(Filename)                   \n",
    "    except urllib2.HTTPError, err:\n",
    "        if err.code == 404:\n",
    "            logging.exception(\"No Data from website\")\n",
    "            pass\n",
    "        else:\n",
    "            raise\n",
    "\n",
    "\n",
    "    file = cStringIO.StringIO(urllib.urlopen(page).read())\n",
    "    img = PILImage.open(file)\n",
    "    fig, ax = subplots(figsize=(15, 8))\n",
    "    ax.set_title(str(Region)+\" Radar: \"+str(Year)+\" \"+\\\n",
    "                 str(Month)+\" \"+str(Day)+\" \"+str(Hour)+str(Minute)+\"Z\")\n",
    "    ax.imshow(img, interpolation='nearest')\n",
    "    plt.axis('off')\n",
    "    tight_layout()\n",
    "    #plt.show()\n",
    "    plt.close()\n",
    "    \n",
    "    return Filename"
   ]
  },
  {
   "cell_type": "code",
   "execution_count": null,
   "metadata": {
    "collapsed": false
   },
   "outputs": [
    {
     "name": "stdout",
     "output_type": "stream",
     "text": [
      "West Coast\n",
      "Tropical Pacific\n",
      "\n",
      "Visible\n",
      "Shortwave\n",
      "Water Vapor\n",
      "IR4\n",
      "AVN\n",
      "Dvorak\n",
      "JSL\n",
      "RGB\n",
      "Funktop\n",
      "Rainbow\n",
      "\n",
      "How long? (hours) 12\n",
      "\n",
      "2016-12-05 07:58:08.339198\n",
      "http://www.ssd.noaa.gov/goes/west/nepac/vis.jpg\n"
     ]
    },
    {
     "name": "stderr",
     "output_type": "stream",
     "text": [
      "/Users/ChowdaHead/anaconda/lib/python2.7/site-packages/matplotlib/tight_layout.py:222: UserWarning: tight_layout : falling back to Agg renderer\n",
      "  warnings.warn(\"tight_layout : falling back to Agg renderer\")\n"
     ]
    },
    {
     "name": "stdout",
     "output_type": "stream",
     "text": [
      "2016-12-05 07:58:21.413040\n",
      "http://www.ssd.noaa.gov/goes/west/weus/vis.jpg\n",
      "2016-12-05 07:58:23.029452\n",
      "http://www.ssd.noaa.gov/goes/west/nepac/ir2.jpg\n",
      "2016-12-05 07:58:23.705737\n",
      "http://www.ssd.noaa.gov/goes/west/weus/ir2.jpg\n",
      "2016-12-05 07:58:25.083143\n",
      "http://www.ssd.noaa.gov/goes/west/nepac/wv.jpg\n",
      "2016-12-05 07:58:26.182488\n",
      "http://www.ssd.noaa.gov/goes/west/weus/wv.jpg\n",
      "2016-12-05 07:58:26.841937\n",
      "http://www.ssd.noaa.gov/goes/west/nepac/ir4.jpg\n",
      "2016-12-05 07:58:27.584087\n",
      "http://www.ssd.noaa.gov/goes/west/weus/ir4.jpg\n",
      "2016-12-05 07:58:28.141442\n",
      "http://www.ssd.noaa.gov/goes/west/nepac/avn.jpg\n",
      "2016-12-05 07:58:28.833455\n",
      "http://www.ssd.noaa.gov/goes/west/weus/avn.jpg\n",
      "2016-12-05 07:58:29.534413\n",
      "http://www.ssd.noaa.gov/goes/west/nepac/bd.jpg\n",
      "2016-12-05 07:58:30.276706\n",
      "http://www.ssd.noaa.gov/goes/west/weus/bd.jpg\n",
      "2016-12-05 07:58:30.925754\n",
      "http://www.ssd.noaa.gov/goes/west/nepac/jsl.jpg\n",
      "2016-12-05 07:58:31.628663\n",
      "http://www.ssd.noaa.gov/goes/west/weus/jsl.jpg\n",
      "2016-12-05 07:58:32.259815\n",
      "http://www.ssd.noaa.gov/goes/west/nepac/rgb.jpg\n",
      "2016-12-05 07:58:34.904918\n",
      "http://www.ssd.noaa.gov/goes/west/weus/rgb.jpg\n",
      "2016-12-05 07:58:35.830670\n",
      "http://www.ssd.noaa.gov/goes/west/nepac/ft.jpg\n",
      "2016-12-05 07:58:36.517255\n",
      "http://www.ssd.noaa.gov/goes/west/weus/ft.jpg\n",
      "2016-12-05 07:58:37.141080\n",
      "http://www.ssd.noaa.gov/goes/west/nepac/rb.jpg\n",
      "2016-12-05 07:58:38.216215\n",
      "http://www.ssd.noaa.gov/goes/west/weus/rb.jpg\n"
     ]
    }
   ],
   "source": [
    "for j in RegionNames:\n",
    "    print j\n",
    "print\n",
    "#chooses = raw_input(\"Which Region? \")\n",
    "#if chooses in RegionNames:\n",
    "    #i = RegionNames.index(chooses)\n",
    "    #print i\n",
    "for j in Dscrt:\n",
    "    print j\n",
    "print\n",
    "#chooses2 = raw_input(\"Which Channel? \")\n",
    "#if chooses2 in Dscrt:\n",
    "    #k = Dscrt.index(chooses2)\n",
    "    #print k\n",
    "Time = input(\"How long? (hours) \")\n",
    "print\n",
    "for j in range(Time*2):\n",
    "    for i in range(len(TropEastPageName)):\n",
    "        GOES_Radar_Pages(TropEastPageName[i],ExtNames[i],RegionNames[0])\n",
    "        GOES_Radar_Pages(EastPageName[i],ExtNames[i],RegionNames[1])\n",
    "        \n",
    "    time.sleep(30*60)"
   ]
  },
  {
   "cell_type": "code",
   "execution_count": null,
   "metadata": {
    "collapsed": true
   },
   "outputs": [],
   "source": [
    "# for adding lat and lon???\n",
    "ExtNames[i] = ExtNames[i]+\"-1\""
   ]
  }
 ],
 "metadata": {
  "kernelspec": {
   "display_name": "Python 2",
   "language": "python",
   "name": "python2"
  },
  "language_info": {
   "codemirror_mode": {
    "name": "ipython",
    "version": 2
   },
   "file_extension": ".py",
   "mimetype": "text/x-python",
   "name": "python",
   "nbconvert_exporter": "python",
   "pygments_lexer": "ipython2",
   "version": "2.7.12"
  }
 },
 "nbformat": 4,
 "nbformat_minor": 0
}
